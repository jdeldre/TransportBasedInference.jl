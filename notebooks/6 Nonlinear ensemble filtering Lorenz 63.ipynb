{
 "cells": [
  {
   "cell_type": "markdown",
   "metadata": {},
   "source": [
    "## 6. Nonlinear ensemble filtering for the Lorenz-63 problem"
   ]
  },
  {
   "cell_type": "markdown",
   "metadata": {},
   "source": [
    "In this notebook, we are interested in the sequential inference \n",
    "\n",
    "\n",
    "\n",
    "References: \n",
    "\n",
    "\n",
    "[1] Evensen, G., 1994. Sequential data assimilation with a nonlinear quasi‐geostrophic model using Monte Carlo methods to forecast error statistics. Journal of Geophysical Research: Oceans, 99(C5), pp.10143-10162.\n",
    "\n",
    "[2] Asch, M., Bocquet, M. and Nodet, M., 2016. Data assimilation: methods, algorithms, and applications. Society for Industrial and Applied Mathematics.\n",
    "\n",
    "[3] Bishop, C.H., Etherton, B.J. and Majumdar, S.J., 2001. Adaptive sampling with the ensemble transform Kalman filter. Part I: Theoretical aspects. Monthly weather review, 129(3), pp.420-436. \n",
    "\n",
    "[4] Lorenz, E.N., 1963. Deterministic nonperiodic flow. Journal of atmospheric sciences, 20(2), pp.130-141.\n",
    "\n",
    "[5] Spantini, A., Baptista, R. and Marzouk, Y., 2019. Coupling techniques for nonlinear ensemble filtering. arXiv preprint arXiv:1907.00389."
   ]
  },
  {
   "cell_type": "markdown",
   "metadata": {},
   "source": [
    "### The basic steps\n",
    "To carry out sequential inference in `AdaptiveTransportMap`, we need to carry out a few basic steps:\n",
    "* **Specify the problem**: Define the state-space model: initial condition, dynamical and observation models (including process and observation noise)\n",
    "* **Specify the inflation parameters**: Determine the levels of covariance inflation to properly balance the dynamical system and the observations from the truth system\n",
    "* **Specify the filter**: Choose the ensemble filter to assimilate the observations in the state estimate\n",
    "* **Perform the sequential inference**: Perform the sequential inference\n",
    "\n",
    "We will go through all of these here."
   ]
  },
  {
   "cell_type": "code",
   "execution_count": 2,
   "metadata": {
    "execution": {
     "iopub.execute_input": "2021-04-13T15:49:43.360000-04:00",
     "iopub.status.busy": "2021-04-13T15:49:43.360000-04:00",
     "iopub.status.idle": "2021-04-13T15:49:43.510000-04:00"
    }
   },
   "outputs": [],
   "source": [
    "import Pkg\n"
   ]
  },
  {
   "cell_type": "code",
   "execution_count": 8,
   "metadata": {
    "execution": {
     "iopub.execute_input": "2021-04-13T15:55:18.689000-04:00",
     "iopub.status.busy": "2021-04-13T15:55:18.688000-04:00",
     "iopub.status.idle": "2021-04-13T15:55:18.706000-04:00"
    }
   },
   "outputs": [],
   "source": [
    "using Revise\n",
    "using LinearAlgebra\n",
    "using AdaptiveTransportMap\n",
    "using Statistics\n",
    "using Distributions\n",
    "using OrdinaryDiffEq"
   ]
  },
  {
   "cell_type": "code",
   "execution_count": 9,
   "metadata": {
    "execution": {
     "iopub.execute_input": "2021-04-13T15:55:26.719000-04:00",
     "iopub.status.busy": "2021-04-13T15:55:26.719000-04:00",
     "iopub.status.idle": "2021-04-13T15:55:26.735000-04:00"
    }
   },
   "outputs": [],
   "source": [
    "using DelimitedFiles\n"
   ]
  },
  {
   "cell_type": "markdown",
   "metadata": {},
   "source": [
    "Load some packages to make nice figures"
   ]
  },
  {
   "cell_type": "code",
   "execution_count": 13,
   "metadata": {
    "execution": {
     "iopub.execute_input": "2021-04-13T16:00:10.857000-04:00",
     "iopub.status.busy": "2021-04-13T16:00:10.603000-04:00",
     "iopub.status.idle": "2021-04-13T16:00:11.450000-04:00"
    }
   },
   "outputs": [],
   "source": [
    "using Plots\n",
    "default(tickfont = font(\"CMU Serif\", 9), \n",
    "        titlefont = font(\"CMU Serif\", 14), \n",
    "        guidefont = font(\"CMU Serif\", 12),\n",
    "        legendfont = font(\"CMU Serif\", 10),\n",
    "        grid = false)\n",
    "pyplot()\n",
    "\n",
    "using LaTeXStrings\n",
    "PyPlot.rc(\"text\", usetex = \"true\")\n",
    "PyPlot.rc(\"font\", family = \"CMU Serif\")\n",
    "# gr()\n",
    "using ColorSchemes\n"
   ]
  },
  {
   "cell_type": "markdown",
   "metadata": {},
   "source": [
    "The Lorenz-63  model is a three dimensional system that models the atmospheric convection [4]. This system is a classical benchmark problem in data assimilation. The state $\\boldsymbol{x} = (x_1, x_2, x_3)$ is governed by the following set of ordinary differential equations:\n",
    "\n",
    "\\begin{equation}\n",
    "\\begin{aligned}\n",
    "&\\frac{\\mathrm{d} x_1}{\\mathrm{d} t}=\\sigma(x_2-x_1)\\\\\n",
    "&\\frac{\\mathrm{d} x_2}{\\mathrm{d} t}=x_1(\\rho-x_2)-x_2\\\\\n",
    "&\\frac{\\mathrm{d} x_3}{\\mathrm{d} t}=x_1 x_2-\\beta x_3,\n",
    "\\end{aligned}\n",
    "\\end{equation}\n",
    "\n",
    "where $\\sigma = 10, \\beta = 8/3, \\rho = 28$. For these values, the system is chaotic and behaves like a strange attractor. We integrate this system of ODEs with time step $\\Delta t_{dyn} = 0.05$. The state is fully observed $h(t,\\boldsymbol{x}) = \\boldsymbol{x}$ with $\\Delta t_{obs}=0.1$. The initial distribution $\\pi_{\\mathsf{X}_0}$ is the standard Gaussian. The process noise is Gaussian with zero mean and covariance $10^{-4}\\boldsymbol{I}_3$. The measurement noise has a Gaussian distribution with zero mean and covariance $\\theta^2\\boldsymbol{I}_3$ where $\\theta^2 = 4.0$."
   ]
  },
  {
   "cell_type": "markdown",
   "metadata": {},
   "source": [
    "### Simple twin-experiment"
   ]
  },
  {
   "cell_type": "markdown",
   "metadata": {},
   "source": [
    "Define the dimension of the state and observation vectors"
   ]
  },
  {
   "cell_type": "code",
   "execution_count": 14,
   "metadata": {
    "execution": {
     "iopub.execute_input": "2021-04-13T16:01:37.530000-04:00",
     "iopub.status.busy": "2021-04-13T16:01:37.529000-04:00",
     "iopub.status.idle": "2021-04-13T16:01:37.849000-04:00"
    }
   },
   "outputs": [
    {
     "data": {
      "text/plain": [
       "3"
      ]
     },
     "execution_count": 14,
     "metadata": {},
     "output_type": "execute_result"
    }
   ],
   "source": [
    "#3D points in space\n",
    "Nx = 3 \n",
    "Ny = 3\n"
   ]
  },
  {
   "cell_type": "markdown",
   "metadata": {},
   "source": [
    "Define the time steps $\\Delta t_{dyn}, \\Delta t_{obs}$  of the dynamical and observation models. Observations from the truth are assimilated every $\\Delta t_{obs}$."
   ]
  },
  {
   "cell_type": "code",
   "execution_count": 15,
   "metadata": {
    "execution": {
     "iopub.execute_input": "2021-04-13T16:02:11.316000-04:00",
     "iopub.status.busy": "2021-04-13T16:02:11.316000-04:00",
     "iopub.status.idle": "2021-04-13T16:02:11.659000-04:00"
    }
   },
   "outputs": [
    {
     "data": {
      "text/plain": [
       "0.1"
      ]
     },
     "execution_count": 15,
     "metadata": {},
     "output_type": "execute_result"
    }
   ],
   "source": [
    "Δtdyn = 0.05 #\"ground truth\" time step\n",
    "Δtobs = 0.1 # observation time step\n"
   ]
  },
  {
   "cell_type": "markdown",
   "metadata": {},
   "source": [
    "Define the time span of interest"
   ]
  },
  {
   "cell_type": "code",
   "execution_count": 16,
   "metadata": {
    "execution": {
     "iopub.execute_input": "2021-04-13T16:03:09.314000-04:00",
     "iopub.status.busy": "2021-04-13T16:03:09.314000-04:00",
     "iopub.status.idle": "2021-04-13T16:03:09.341000-04:00"
    }
   },
   "outputs": [
    {
     "data": {
      "text/plain": [
       "1000"
      ]
     },
     "execution_count": 16,
     "metadata": {},
     "output_type": "execute_result"
    }
   ],
   "source": [
    "t0 = 0.0\n",
    "tf = 100.0\n",
    "Tf = ceil(Int64, (tf-t0)/Δtobs)\n"
   ]
  },
  {
   "cell_type": "markdown",
   "metadata": {},
   "source": [
    " Define the distribution for the initial condition $\\pi_{\\mathsf{X}_0}$"
   ]
  },
  {
   "cell_type": "code",
   "execution_count": 19,
   "metadata": {
    "execution": {
     "iopub.execute_input": "2021-04-13T16:04:49.375000-04:00",
     "iopub.status.busy": "2021-04-13T16:04:49.374000-04:00",
     "iopub.status.idle": "2021-04-13T16:04:49.390000-04:00"
    }
   },
   "outputs": [
    {
     "data": {
      "text/plain": [
       "FullNormal(\n",
       "dim: 3\n",
       "μ: [0.0, 0.0, 0.0]\n",
       "Σ: [1.0 0.0 0.0; 0.0 1.0 0.0; 0.0 0.0 1.0]\n",
       ")\n"
      ]
     },
     "execution_count": 19,
     "metadata": {},
     "output_type": "execute_result"
    }
   ],
   "source": [
    "π0 = MvNormal(zeros(Nx), Matrix(1.0*I, Nx, Nx)) #initial distribution, mean is the origin\n"
   ]
  },
  {
   "cell_type": "markdown",
   "metadata": {},
   "source": [
    "We construct the state-space representation `F` of the system composed of the deterministic part of the dynamical and observation models. \n",
    "\n",
    "The dynamical model is provided by the right hand side of the ODE to solve. For a system of ODEs, we will prefer an in-place syntax `f(du, u, p, t)`, where `p` are parameters of the model.\n",
    "We rely on `OrdinaryDiffEq` to integrate the dynamical system with the Tsitouras 5/4 Runge-Kutta method adaptive time marching. \n",
    "\n",
    "We assume that the state is fully observable, i.e. $h(x, t) = x$."
   ]
  },
  {
   "cell_type": "code",
   "execution_count": 23,
   "metadata": {
    "execution": {
     "iopub.execute_input": "2021-04-13T16:10:11.758000-04:00",
     "iopub.status.busy": "2021-04-13T16:10:11.757000-04:00",
     "iopub.status.idle": "2021-04-13T16:10:11.776000-04:00"
    }
   },
   "outputs": [
    {
     "data": {
      "text/plain": [
       "StateSpace(AdaptiveTransportMap.lorenz63!, h)"
      ]
     },
     "execution_count": 23,
     "metadata": {},
     "output_type": "execute_result"
    }
   ],
   "source": [
    "h(x, t) = x #deterministic part of observation model\n",
    "F = StateSpace(lorenz63!, h) #combines the dynamic and observation models into one object"
   ]
  },
  {
   "cell_type": "markdown",
   "metadata": {},
   "source": [
    "Define the additive inflation for the dynamical and observation models"
   ]
  },
  {
   "cell_type": "code",
   "execution_count": 24,
   "metadata": {
    "execution": {
     "iopub.execute_input": "2021-04-13T16:12:21.149000-04:00",
     "iopub.status.busy": "2021-04-13T16:12:21.149000-04:00",
     "iopub.status.idle": "2021-04-13T16:12:21.451000-04:00"
    }
   },
   "outputs": [
    {
     "data": {
      "text/plain": [
       "AdditiveInflation(3, [0.0, 0.0, 0.0], [1.0e-6 0.0 0.0; 0.0 1.0e-6 0.0; 0.0 0.0 1.0e-6], [0.001 0.0 0.0; 0.0 0.001 0.0; 0.0 0.0 0.001])"
      ]
     },
     "execution_count": 24,
     "metadata": {},
     "output_type": "execute_result"
    }
   ],
   "source": [
    "### Process and observation noise\n",
    "σx = 1e-1\n",
    "σy = 1e-3\n",
    "\n",
    "ϵx = AdditiveInflation(Nx, zeros(Nx), σx) #process noise\n",
    "ϵy = AdditiveInflation(Ny, zeros(Ny), σy) #observation noise"
   ]
  },
  {
   "cell_type": "code",
   "execution_count": 26,
   "metadata": {
    "execution": {
     "iopub.execute_input": "2021-04-13T16:16:08.212000-04:00",
     "iopub.status.busy": "2021-04-13T16:16:08.211000-04:00",
     "iopub.status.idle": "2021-04-13T16:16:08.248000-04:00"
    }
   },
   "outputs": [],
   "source": [
    "model = Model(Nx, Ny, Δtdyn, Δtobs, ϵx, ϵy, π0, 0, 0, 0, F);"
   ]
  },
  {
   "cell_type": "markdown",
   "metadata": {},
   "source": [
    "To perform the nonlinear ensemble filtering, we first need to estimate the transport map $\\boldsymbol{S}^{\\boldsymbol{\\mathcal{X}}}$.\n",
    "\n",
    "In this notebook, we are going to assume that the basis of features does not change over time, but solely the coefficients $c_{\\boldsymbol{\\alpha}}$ of the expansion. \n",
    "\n",
    "\n",
    "To estimate the map, we generate joint samples $(\\boldsymbol{y}^i, \\boldsymbol{x}^i), \\; i = 1, \\ldots, N_e$ where $\\{\\boldsymbol{x}^i\\}$ are i.i.d. samples from pushforward of the standard Gaussian distribution by the flow of the Lorenz-63 system."
   ]
  },
  {
   "cell_type": "code",
   "execution_count": 27,
   "metadata": {
    "execution": {
     "iopub.execute_input": "2021-04-13T16:19:43.324000-04:00",
     "iopub.status.busy": "2021-04-13T16:19:43.324000-04:00",
     "iopub.status.idle": "2021-04-13T16:19:44.085000-04:00"
    }
   },
   "outputs": [
    {
     "data": {
      "text/plain": [
       "\u001b[36mODEProblem\u001b[0m with uType \u001b[36mArray{Float64,1}\u001b[0m and tType \u001b[36mFloat64\u001b[0m. In-place: \u001b[36mtrue\u001b[0m\n",
       "timespan: (0.0, 100.0)\n",
       "u0: 3-element Array{Float64,1}:\n",
       " 0.0\n",
       " 0.0\n",
       " 0.0"
      ]
     },
     "execution_count": 27,
     "metadata": {},
     "output_type": "execute_result"
    }
   ],
   "source": [
    "# Number of runs/ensemble members\n",
    "Ne = 500\n",
    "\n",
    "# Time span\n",
    "tspan = (0.0, 100.0)\n",
    "prob = ODEProblem(lorenz63!, zeros(Nx), tspan)"
   ]
  },
  {
   "cell_type": "markdown",
   "metadata": {},
   "source": [
    "Create cache to store the different final solutions"
   ]
  },
  {
   "cell_type": "code",
   "execution_count": 29,
   "metadata": {
    "execution": {
     "iopub.execute_input": "2021-04-13T16:20:57.955000-04:00",
     "iopub.status.busy": "2021-04-13T16:20:57.955000-04:00",
     "iopub.status.idle": "2021-04-13T16:20:57.986000-04:00"
    }
   },
   "outputs": [],
   "source": [
    "X = zeros(Ny + Nx, Ne); #joint samples"
   ]
  },
  {
   "cell_type": "markdown",
   "metadata": {},
   "source": [
    "Solve Lorenz-96 model for the different initial conditions and store the solutions as the columns of `X`, and compute the associated observation vector."
   ]
  },
  {
   "cell_type": "code",
   "execution_count": 30,
   "metadata": {
    "execution": {
     "iopub.execute_input": "2021-04-13T16:23:33.319000-04:00",
     "iopub.status.busy": "2021-04-13T16:23:33.318000-04:00",
     "iopub.status.idle": "2021-04-13T16:23:39.688000-04:00"
    }
   },
   "outputs": [],
   "source": [
    "J = ceil(Int64, (tf-t0)/Δtobs)\n",
    "@inbounds for i=1:Ne\n",
    "    xtmp = rand(π0)\n",
    "    for j=1:J\n",
    "        tspan = (t0 + (j-1)*model.Δtobs, t0 + j*model.Δtobs)\n",
    "        prob = remake(prob, tspan = tspan, u0 = xtmp)\n",
    "        sol = solve(prob, Tsit5(), dt = Δtdyn, dense = false, save_everystep = false)\n",
    "        xtmp .= copy(sol.u[end]) \n",
    "        # Add process noise\n",
    "        model.ϵx(xtmp)\n",
    "    end\n",
    "    \n",
    "    # Store the state\n",
    "    X[Ny+1:Ny+Nx,i] .= copy(xtmp)\n",
    "end\n",
    "# Generate the observations\n",
    "observe(h, X, tf, Ny, Nx)\n",
    "\n",
    "# Apply the observation noise\n",
    "ϵy(X, 1, Ny)"
   ]
  },
  {
   "cell_type": "code",
   "execution_count": 14,
   "metadata": {},
   "outputs": [
    {
     "data": {
      "text/plain": [
       "6×500 Array{Float64,2}:\n",
       " 12.6981    0.930478   3.98214  13.6515  …   5.38257    9.40037  -13.654\n",
       "  8.37203   1.62649    5.75284  13.2089      0.775109   3.96774  -11.2277\n",
       " 36.521    10.9611    17.4395   34.3492     29.3109    33.9116    36.3547\n",
       " 12.6979    0.929687   3.98188  13.6506      5.38174    9.40014  -13.6549\n",
       "  8.37175   1.62558    5.75274  13.2087      0.774492   3.96771  -11.2286\n",
       " 36.5206   10.9604    17.4391   34.3489  …  29.3107    33.9112    36.354"
      ]
     },
     "execution_count": 14,
     "metadata": {},
     "output_type": "execute_result"
    }
   ],
   "source": [
    "# writedlm( \"lorenzdata.csv\",  X, ',')\n",
    "X = readdlm( \"lorenzdata.csv\",  ',')"
   ]
  },
  {
   "cell_type": "code",
   "execution_count": 32,
   "metadata": {
    "execution": {
     "iopub.execute_input": "2021-04-13T16:28:45.836000-04:00",
     "iopub.status.busy": "2021-04-13T16:28:45.835000-04:00",
     "iopub.status.idle": "2021-04-13T16:28:47.244000-04:00"
    }
   },
   "outputs": [
    {
     "data": {
      "text/plain": [
       "HermiteMap(10, 6, LinearTransform(6, [0.44473129082540136, 0.7198137572129855, 23.772946446133272, 0.44424983739899576, 0.7193074613527211, 23.772456523227298], [8.03694827679235 0.0 … 0.0 0.0; 0.0 9.20781362939896 … 0.0 0.0; … ; 0.0 0.0 … 9.207809725124045 0.0; 0.0 0.0 … 0.0 8.515025921069848], true), MapComponent[Map component of dimension 1 with Nψ 1 active features\n",
       ", Map component of dimension 2 with Nψ 1 active features\n",
       ", Map component of dimension 3 with Nψ 1 active features\n",
       ", Map component of dimension 4 with Nψ 1 active features\n",
       ", Map component of dimension 5 with Nψ 1 active features\n",
       ", Map component of dimension 6 with Nψ 1 active features\n",
       "])"
      ]
     },
     "execution_count": 32,
     "metadata": {},
     "output_type": "execute_result"
    }
   ],
   "source": [
    "# Initialize the map\n",
    "m = 10\n",
    "S = HermiteMap(m, X; diag = true, α = 1.0e-4)"
   ]
  },
  {
   "cell_type": "code",
   "execution_count": 34,
   "metadata": {
    "execution": {
     "iopub.execute_input": "2021-04-13T16:31:12.960000-04:00",
     "iopub.status.busy": "2021-04-13T16:31:12.959000-04:00",
     "iopub.status.idle": "2021-04-13T16:31:12.978000-04:00"
    }
   },
   "outputs": [
    {
     "data": {
      "text/plain": [
       "500"
      ]
     },
     "execution_count": 34,
     "metadata": {},
     "output_type": "execute_result"
    }
   ],
   "source": [
    "Ne"
   ]
  },
  {
   "cell_type": "code",
   "execution_count": 35,
   "metadata": {
    "execution": {
     "iopub.execute_input": "2021-04-13T16:31:25.552000-04:00",
     "iopub.status.busy": "2021-04-13T16:31:25.551000-04:00",
     "iopub.status.idle": "2021-04-13T16:31:42.618000-04:00"
    }
   },
   "outputs": [
    {
     "data": {
      "image/png": "[encoded data removed]"
     },
     "execution_count": 35,
     "metadata": {},
     "output_type": "execute_result"
    }
   ],
   "source": [
    "plt = plot(layout = grid(6,1), size = (400, 800))\n",
    "\n",
    "for i=1:6\n",
    "      histogram!(plt[i,1], sort(transform(X)[i,:]), bins = 100; normalize = :pdf, legend = false)     \n",
    "end\n",
    "plt\n",
    "# savefig(\"normalized_histogram.pdf\")"
   ]
  },
  {
   "cell_type": "code",
   "execution_count": 36,
   "metadata": {
    "execution": {
     "iopub.execute_input": "2021-04-13T16:32:22.246000-04:00",
     "iopub.status.busy": "2021-04-13T16:32:22.245000-04:00",
     "iopub.status.idle": "2021-04-13T16:32:22.269000-04:00"
    }
   },
   "outputs": [
    {
     "data": {
      "text/plain": [
       "6×500 Array{Float64,2}:\n",
       "  0.891015  -0.280037   0.428655  …  -1.11096   0.588473  -0.476276\n",
       "  1.41205   -0.457562  -0.480062     -0.486938  0.317074   0.235845\n",
       " -1.26998   -1.62079    0.887121      1.01203   0.205296   0.731141\n",
       "  0.891019  -0.279984   0.428652     -1.11094   0.588443  -0.476236\n",
       "  1.41203   -0.457584  -0.480036     -0.486911  0.317033   0.235882\n",
       " -1.26998   -1.62079    0.887143  …   1.01209   0.205268   0.731126"
      ]
     },
     "execution_count": 36,
     "metadata": {},
     "output_type": "execute_result"
    }
   ],
   "source": [
    "transform(X)"
   ]
  },
  {
   "cell_type": "code",
   "execution_count": 38,
   "metadata": {
    "execution": {
     "iopub.execute_input": "2021-04-13T16:33:49.707000-04:00",
     "iopub.status.busy": "2021-04-13T16:33:49.707000-04:00",
     "iopub.status.idle": "2021-04-13T16:33:49.895000-04:00"
    }
   },
   "outputs": [
    {
     "data": {
      "text/plain": [
       "1-element Array{Float64,1}:\n",
       " 0.0"
      ]
     },
     "execution_count": 38,
     "metadata": {},
     "output_type": "execute_result"
    }
   ],
   "source": [
    "getcoeff(S[3])"
   ]
  },
  {
   "cell_type": "markdown",
   "metadata": {},
   "source": [
    "The optimization works up to 22 active features, after the Cholesky decomposition crashes."
   ]
  },
  {
   "cell_type": "code",
   "execution_count": 39,
   "metadata": {
    "execution": {
     "iopub.execute_input": "2021-04-13T16:34:11.365000-04:00",
     "iopub.status.busy": "2021-04-13T16:34:11.365000-04:00",
     "iopub.status.idle": "2021-04-13T16:34:39.857000-04:00"
    },
    "scrolled": true
   },
   "outputs": [
    {
     "name": "stdout",
     "output_type": "stream",
     "text": [
      "1 terms - Training error: 1.432610609928614, Validation error: 1.3592502263089086\n",
      "1 terms - Training error: 1.4325240985340038, Validation error: 1.3589131079813486\n",
      "2 terms - Training error: 1.4239460696281776, Validation error: 1.3653127396137006\n",
      "3 terms - Training error: 1.4187003036725083, Validation error: 1.3604842619179631\n",
      "4 terms - Training error: 1.4095872957379902, Validation error: 1.346739172914098\n",
      "5 terms - Training error: 1.4094473805741823, Validation error: 1.347644685259413\n",
      "6 terms - Training error: 1.3425819702437003, Validation error: 1.272438895416159\n",
      "7 terms - Training error: 1.3424968127986658, Validation error: 1.2704259675223246\n",
      "8 terms - Training error: 1.3418176171719534, Validation error: 1.2715500534888036\n",
      "9 terms - Training error: 1.3417641781715186, Validation error: 1.2727462997468946\n",
      "1 terms - Training error: 1.4027623156351958, Validation error: 1.4786434034825817\n",
      "1 terms - Training error: 1.4023908954841884, Validation error: 1.4796734674464393\n",
      "2 terms - Training error: 1.3979674556681467, Validation error: 1.4686459047442655\n",
      "3 terms - Training error: 1.3935962176212273, Validation error: 1.4604481386128185\n",
      "4 terms - Training error: 1.3775806665447117, Validation error: 1.478414014569147\n",
      "5 terms - Training error: 1.3775241700025853, Validation error: 1.479109059964494\n",
      "6 terms - Training error: 1.318698442235106, Validation error: 1.3752893777475503\n",
      "7 terms - Training error: 1.3134516368483231, Validation error: 1.4033533761761723\n",
      "8 terms - Training error: 1.3127467738442402, Validation error: 1.4070352451240933\n",
      "9 terms - Training error: 1.3126321767652729, Validation error: 1.4063537871578518\n",
      "1 terms - Training error: 1.404264710652497, Validation error: 1.472633823413376\n",
      "1 terms - Training error: 1.403411108632735, Validation error: 1.4768038563769568\n",
      "2 terms - Training error: 1.3998269663804603, Validation error: 1.463154596340059\n",
      "3 terms - Training error: 1.3940509919286421, Validation error: 1.4603635181149548\n",
      "4 terms - Training error: 1.383497339628459, Validation error: 1.4521602913318736\n",
      "5 terms - Training error: 1.383465480949441, Validation error: 1.4523022826065919\n",
      "6 terms - Training error: 1.316062112501149, Validation error: 1.3779889518502817\n",
      "7 terms - Training error: 1.3160459420768424, Validation error: 1.3768720321176127\n",
      "8 terms - Training error: 1.3142028611910224, Validation error: 1.3866983902163315\n",
      "9 terms - Training error: 1.3130297459273341, Validation error: 1.3966375163664662\n",
      "1 terms - Training error: 1.421394009924353, Validation error: 1.4041166263259515\n",
      "1 terms - Training error: 1.42130990397176, Validation error: 1.40377384481524\n",
      "2 terms - Training error: 1.414923510086814, Validation error: 1.400182684104333\n",
      "3 terms - Training error: 1.4077866204177476, Validation error: 1.4037664721757719\n",
      "4 terms - Training error: 1.3975515775389553, Validation error: 1.3943651150159981\n",
      "5 terms - Training error: 1.397551570988206, Validation error: 1.3943673176715559\n",
      "6 terms - Training error: 1.3303304163988132, Validation error: 1.320455838509772\n",
      "7 terms - Training error: 1.3285275427280145, Validation error: 1.3239750512399873\n",
      "8 terms - Training error: 1.3284154577804315, Validation error: 1.322878782493315\n",
      "9 terms - Training error: 1.3283984002337197, Validation error: 1.3226558486341138\n",
      "1 terms - Training error: 1.428661019882704, Validation error: 1.3750485864925441\n",
      "1 terms - Training error: 1.4286109820134503, Validation error: 1.3763482682255783\n",
      "2 terms - Training error: 1.4217931362466487, Validation error: 1.374363340234454\n",
      "3 terms - Training error: 1.4182733799658251, Validation error: 1.3634700517156435\n",
      "4 terms - Training error: 1.412139196977928, Validation error: 1.34013165649739\n",
      "5 terms - Training error: 1.4121292688880163, Validation error: 1.3401377912164976\n",
      "6 terms - Training error: 1.3236522018602388, Validation error: 1.3565889312491697\n",
      "7 terms - Training error: 1.3229812025882315, Validation error: 1.3546282398898126\n",
      "8 terms - Training error: 1.322889356023047, Validation error: 1.3534268727059324\n",
      "9 terms - Training error: 1.3228730333826484, Validation error: 1.353182249662125\n",
      "1 terms - Training error: 1.417938533204672\n",
      "1 terms - Training error: 1.4177947651875102\n",
      "2 terms - Training error: 1.411955097585967\n",
      "3 terms - Training error: 1.4068038996776426\n",
      "4 terms - Training error: 1.3966965811642489\n",
      "5 terms - Training error: 1.39668961104871\n",
      "6 terms - Training error: 1.3276897268336174\n"
     ]
    },
    {
     "name": "stderr",
     "output_type": "stream",
     "text": [
      "\u001b[32mProgress:  17%|██████▉                                  |  ETA: 0:00:20\u001b[39m"
     ]
    },
    {
     "name": "stdout",
     "output_type": "stream",
     "text": [
      "7 terms - Training error: 1.3267682074231717\n",
      "1 terms - Training error: 1.4236146661762275, Validation error: 1.3952340013184534\n",
      "1 terms - Training error: 1.4230873737016123, Validation error: 1.3967369345242482\n",
      "2 terms - Training error: 1.0572158504617728, Validation error: 1.0664544052176\n",
      "3 terms - Training error: 1.0570811884205247, Validation error: 1.0651507821245978\n",
      "4 terms - Training error: 1.0330039438648526, Validation error: 1.0417809315295292\n",
      "5 terms - Training error: 1.0325916595638092, Validation error: 1.0428558212645676\n",
      "6 terms - Training error: 0.7538931941878585, Validation error: 0.7578336275540177\n",
      "7 terms - Training error: 0.7529727225144152, Validation error: 0.756036171745547\n",
      "8 terms - Training error: 0.7102475824746974, Validation error: 0.7235299024203808\n",
      "9 terms - Training error: 0.7054463807883119, Validation error: 0.727087688747506\n",
      "1 terms - Training error: 1.4129566081434513, Validation error: 1.4378662334495602\n",
      "1 terms - Training error: 1.412647713590693, Validation error: 1.438155263219966\n",
      "2 terms - Training error: 1.066765467387215, Validation error: 1.028588978816499\n",
      "3 terms - Training error: 1.0667462194995527, Validation error: 1.0277708831559127\n",
      "4 terms - Training error: 1.038964815194101, Validation error: 1.0202837155574134\n",
      "5 terms - Training error: 1.03839462043918, Validation error: 1.024032600132226\n",
      "6 terms - Training error: 1.0382450064505397, Validation error: 1.0232241947535554\n",
      "7 terms - Training error: 1.0382308017602389, Validation error: 1.0229533109625981\n",
      "8 terms - Training error: 0.7723154999940249, Validation error: 0.6805699767137035\n",
      "9 terms - Training error: 0.7647237085387375, Validation error: 0.7235344242883\n",
      "1 terms - Training error: 1.4151010774587391, Validation error: 1.4292883561884082\n",
      "1 terms - Training error: 1.4145928854921954, Validation error: 1.430660868444691\n",
      "2 terms - Training error: 1.0568656977321913, Validation error: 1.067437218028914\n",
      "3 terms - Training error: 1.0565354536625038, Validation error: 1.0664342600643901\n",
      "4 terms - Training error: 1.034010098875299, Validation error: 1.037185887826359\n",
      "5 terms - Training error: 1.033152698876529, Validation error: 1.0411602891181244\n",
      "6 terms - Training error: 0.7497496552474656, Validation error: 0.7730206827284967\n",
      "7 terms - Training error: 0.7484870007659911, Validation error: 0.7727328169332613\n",
      "8 terms - Training error: 0.7073513840222505, Validation error: 0.7329938625505531\n",
      "9 terms - Training error: 0.7038399245462432, Validation error: 0.7302383991012502\n",
      "1 terms - Training error: 1.4128045596308005, Validation error: 1.4384744275001629\n",
      "1 terms - Training error: 1.4126743085226625, Validation error: 1.438029953156081\n",
      "2 terms - Training error: 1.063561632493122, Validation error: 1.0410502140504028\n",
      "3 terms - Training error: 1.0622555523801536, Validation error: 1.044907536777361\n",
      "4 terms - Training error: 1.0384891905607996, Validation error: 1.019742006204311\n",
      "5 terms - Training error: 1.038457121547585, Validation error: 1.0204554325787039\n",
      "6 terms - Training error: 1.0381991016158534, Validation error: 1.0200847412730945\n",
      "7 terms - Training error: 1.0381806477694822, Validation error: 1.0197601114516526\n",
      "8 terms - Training error: 0.7482843712824283, Validation error: 0.7665987425587634\n",
      "9 terms - Training error: 0.7481531455244769, Validation error: 0.7644086008009737\n",
      "1 terms - Training error: 1.4252157546141464, Validation error: 1.388829647566779\n",
      "1 terms - Training error: 1.425004792097539, Validation error: 1.3914001201371653\n",
      "2 terms - Training error: 1.4230236082440317, Validation error: 1.3904543852972624\n",
      "3 terms - Training error: 1.0489744983663107, Validation error: 1.101081370150398\n",
      "4 terms - Training error: 0.7679095597109631, Validation error: 0.888352409351821\n",
      "5 terms - Training error: 0.7672015038783545, Validation error: 0.8934699954401306\n",
      "6 terms - Training error: 0.7424182357437678, Validation error: 0.9163826944617959\n",
      "7 terms - Training error: 0.7403446207658239, Validation error: 0.9041943041851543\n",
      "8 terms - Training error: 0.6499123934980356, Validation error: 0.824816956034832\n",
      "9 terms - Training error: 0.645084872441415, Validation error: 0.8152294635466758\n",
      "1 terms - Training error: 1.417938533204673\n",
      "1 terms - Training error: 1.4177379377859631\n",
      "2 terms - Training error: 1.0589594709827044\n",
      "3 terms - Training error: 1.058479092135365\n",
      "4 terms - Training error: 1.0345812688520921\n"
     ]
    },
    {
     "name": "stderr",
     "output_type": "stream",
     "text": [
      "\u001b[32mProgress:  33%|█████████████▋                           |  ETA: 0:00:09\u001b[39m"
     ]
    },
    {
     "name": "stdout",
     "output_type": "stream",
     "text": [
      "5 terms - Training error: 1.0344177322458314\n",
      "6 terms - Training error: 0.7540485159343787\n",
      "7 terms - Training error: 0.7529767350717391\n",
      "8 terms - Training error: 0.7121352145398258\n",
      "9 terms - Training error: 0.7088077800606581\n",
      "1 terms - Training error: 1.4242772389656226, Validation error: 1.3925837101608722\n",
      "1 terms - Training error: 1.4152518619324688, Validation error: 1.3760323141765347\n",
      "2 terms - Training error: 1.1377332730761587, Validation error: 1.12649819146525\n",
      "3 terms - Training error: 1.0203039793068962, Validation error: 1.0635760726361427\n",
      "4 terms - Training error: 0.8314236869449502, Validation error: 0.9269267665909329\n",
      "5 terms - Training error: 0.8010319788328916, Validation error: 0.8981990955602099\n",
      "6 terms - Training error: 0.38396021013133563, Validation error: 0.46994660994726706\n",
      "7 terms - Training error: 0.38237153682016267, Validation error: 0.4663384251060235\n",
      "8 terms - Training error: 0.372478442182434, Validation error: 0.4305933389365219\n",
      "9 terms - Training error: 0.36970054267464436, Validation error: 0.4231950664938466\n",
      "1 terms - Training error: 1.3945305798466483, Validation error: 1.511570346636769\n",
      "1 terms - Training error: 1.3872228859987388, Validation error: 1.4894308576471704\n",
      "2 terms - Training error: 1.1249761058745502, Validation error: 1.179368832452884\n",
      "3 terms - Training error: 1.0260677119836332, Validation error: 1.0412119268165234\n",
      "4 terms - Training error: 0.8408033461449397, Validation error: 0.8936255667647259\n",
      "5 terms - Training error: 0.8142289472838552, Validation error: 0.8511060984672899\n",
      "6 terms - Training error: 0.40731458240012836, Validation error: 0.38626809238277554\n",
      "7 terms - Training error: 0.4025499500312035, Validation error: 0.39861424419256064\n",
      "8 terms - Training error: 0.3862227971094176, Validation error: 0.38300431184611744\n",
      "9 terms - Training error: 0.3787775613737936, Validation error: 0.3961153960234299\n",
      "1 terms - Training error: 1.4121943008399602, Validation error: 1.4409154626635217\n",
      "1 terms - Training error: 1.3984640177828764, Validation error: 1.4438543210601134\n",
      "2 terms - Training error: 1.132885044787363, Validation error: 1.1459558467576552\n",
      "3 terms - Training error: 1.037193264461773, Validation error: 0.9960557510818632\n",
      "4 terms - Training error: 0.8651248572643624, Validation error: 0.7901490300580986\n",
      "5 terms - Training error: 0.8347118105761573, Validation error: 0.7609723953065776\n",
      "6 terms - Training error: 0.4072945780212137, Validation error: 0.3745446617699582\n",
      "7 terms - Training error: 0.4034381909919801, Validation error: 0.39647067337096\n",
      "8 terms - Training error: 0.370971217431048, Validation error: 0.45602983978771466\n",
      "9 terms - Training error: 0.36898668869191004, Validation error: 0.44582674762888747\n",
      "1 terms - Training error: 1.4422566093290436, Validation error: 1.3206662287071873\n",
      "1 terms - Training error: 1.4305051216017652, Validation error: 1.314901029767308\n",
      "2 terms - Training error: 1.141924967123441, Validation error: 1.1110260548070803\n",
      "3 terms - Training error: 1.0325701245917802, Validation error: 1.0142023146982766\n",
      "4 terms - Training error: 0.8718290925995931, Validation error: 0.7655294427095415\n",
      "5 terms - Training error: 0.8387110171122851, Validation error: 0.7486785271393409\n",
      "6 terms - Training error: 0.40054532054493736, Validation error: 0.4084927743912903\n",
      "7 terms - Training error: 0.397614585276676, Validation error: 0.41138932729774824\n",
      "8 terms - Training error: 0.3866676744286357, Validation error: 0.3796444214216179\n",
      "9 terms - Training error: 0.3824417110000922, Validation error: 0.37775769409260285\n",
      "1 terms - Training error: 1.4164339370420878, Validation error: 1.4239569178550104\n",
      "1 terms - Training error: 1.4046960388330088, Validation error: 1.4181385503118396\n",
      "2 terms - Training error: 1.3049686165066179, Validation error: 1.3713976771915004\n",
      "3 terms - Training error: 1.0267033355687656, Validation error: 1.037075082051534\n",
      "4 terms - Training error: 0.8359567048428174, Validation error: 0.9080811950661732\n",
      "5 terms - Training error: 0.8050311870192455, Validation error: 0.8812404987980347\n",
      "6 terms - Training error: 0.3974896191251874, Validation error: 0.4158093377182819\n",
      "7 terms - Training error: 0.39671858586339687, Validation error: 0.4102560663116406\n",
      "8 terms - Training error: 0.38725391341720816, Validation error: 0.37271397220146274\n",
      "9 terms - Training error: 0.3842660018088856, Validation error: 0.3657756836607624\n",
      "1 terms - Training error: 1.417938533204672\n",
      "1 terms - Training error: 1.4073526171209123\n",
      "2 terms - Training error: 1.1354715145175656\n",
      "3 terms - Training error: 1.0287530753794123\n",
      "4 terms - Training error: 0.849806843447367\n",
      "5 terms - Training error: 0.8196684121046748\n"
     ]
    },
    {
     "name": "stderr",
     "output_type": "stream",
     "text": [
      "\u001b[32mProgress:  50%|████████████████████▌                    |  ETA: 0:00:05\u001b[39m"
     ]
    },
    {
     "name": "stdout",
     "output_type": "stream",
     "text": [
      "6 terms - Training error: 0.40049224148333673\n",
      "7 terms - Training error: 0.3985173860101243\n",
      "8 terms - Training error: 0.38305286616642326\n",
      "9 terms - Training error: 0.3792906586390234\n",
      "10 terms - Training error: 0.3736063990294901\n",
      "1 terms - Training error: 1.4326114864614607, Validation error: 1.3592467201775218\n",
      "1 terms - Training error: 1.4323552306231102, Validation error: 1.3587042659862865\n",
      "2 terms - Training error: 0.9519946455501272, Validation error: 0.941481295178374\n",
      "3 terms - Training error: 0.9512324711531488, Validation error: 0.9399134158684634\n",
      "4 terms - Training error: 0.919604940889511, Validation error: 0.9193193052856669\n",
      "5 terms - Training error: 0.9182875798931897, Validation error: 0.9163136719712613\n",
      "6 terms - Training error: -0.473997983565764, Validation error: -0.8442877025465559\n",
      "7 terms - Training error: -0.5577149762332576, Validation error: -1.002311790940932\n",
      "8 terms - Training error: -3.417402296695751, Validation error: -3.472213669836731\n",
      "9 terms - Training error: -3.4174262185673427, Validation error: -3.472246883539416\n",
      "1 terms - Training error: 1.4027616132117238, Validation error: 1.4786462131764688\n",
      "1 terms - Training error: 1.402276833128649, Validation error: 1.4790900244213108\n",
      "2 terms - Training error: 0.9470067121586809, Validation error: 0.9619588279807774\n",
      "3 terms - Training error: 0.9461776349799803, Validation error: 0.9605683753514882\n",
      "4 terms - Training error: 0.9194473600797615, Validation error: 0.9199736502950735\n",
      "5 terms - Training error: 0.916783628442374, Validation error: 0.9228086946528193\n",
      "6 terms - Training error: -0.6671463698976274, Validation error: -0.038348480775377\n",
      "7 terms - Training error: -0.7443417913683128, Validation error: -0.2589592837645316\n",
      "8 terms - Training error: -3.4508671901869734, Validation error: -3.3004964307175886\n",
      "9 terms - Training error: -3.4508708196434386, Validation error: -3.3006084782894796\n",
      "1 terms - Training error: 1.4042661353265913, Validation error: 1.4726281247169999\n",
      "1 terms - Training error: 1.4034125502064458, Validation error: 1.47679807065758\n",
      "2 terms - Training error: 1.3998283245378618, Validation error: 1.4631495613121241\n",
      "3 terms - Training error: 1.3940521294409345, Validation error: 1.4603595350287193\n",
      "4 terms - Training error: 1.3834991579840767, Validation error: 1.4521562725962807\n",
      "5 terms - Training error: 1.3826230753278685, Validation error: 1.448552490164155\n",
      "6 terms - Training error: 1.3823753945817032, Validation error: 1.4515046414938608\n",
      "7 terms - Training error: 1.3808178423135795, Validation error: 1.4452416564864832\n",
      "8 terms - Training error: -0.7233035767724739, Validation error: -0.35581802448997807\n",
      "9 terms - Training error: -0.8093969768915387, Validation error: -0.3916094338518079\n",
      "1 terms - Training error: 1.4213933100696443, Validation error: 1.4041194257447847\n",
      "1 terms - Training error: 1.4210834838726123, Validation error: 1.4037768699270095\n",
      "2 terms - Training error: 0.9508165767046158, Validation error: 0.9460643008412805\n",
      "3 terms - Training error: 0.9493105468452041, Validation error: 0.9477709130225563\n",
      "4 terms - Training error: 0.9195893359962836, Validation error: 0.9193721129332065\n",
      "5 terms - Training error: 0.9179709791535878, Validation error: 0.9174568665183328\n",
      "6 terms - Training error: -0.5414091608202972, Validation error: -0.5855369998874715\n",
      "7 terms - Training error: -0.6841544134919693, Validation error: -0.5089350289317883\n",
      "8 terms - Training error: -3.4243652165802247, Validation error: -3.445617908841904\n",
      "9 terms - Training error: -3.4243933127519646, Validation error: -3.4456349788917047\n",
      "1 terms - Training error: 1.4286601209539436, Validation error: 1.3750521822075885\n",
      "1 terms - Training error: 1.4285119039685616, Validation error: 1.3774391661720444\n",
      "2 terms - Training error: 1.4255880501924048, Validation error: 1.3847016653817337\n",
      "3 terms - Training error: 0.950843073569423, Validation error: 0.9462970728977458\n",
      "4 terms - Training error: 0.9496936923643262, Validation error: 0.9451068011709612\n",
      "5 terms - Training error: 0.9195728423507514, Validation error: 0.9194256750879547\n",
      "6 terms - Training error: 0.9195654441884445, Validation error: 0.9194446716630896\n",
      "7 terms - Training error: 0.9195322396232447, Validation error: 0.9194205556966207\n",
      "8 terms - Training error: 0.9189692040128918, Validation error: 0.9189660331842646\n",
      "9 terms - Training error: 0.9189150880359256, Validation error: 0.916311556015747\n",
      "1 terms - Training error: 1.417938533204673\n",
      "1 terms - Training error: 1.417622133037268\n",
      "2 terms - Training error: 0.9498584818920661\n",
      "3 terms - Training error: 0.9489280334689576\n",
      "4 terms - Training error: 0.9195433783687385\n",
      "5 terms - Training error: 0.9178637675073532\n",
      "6 terms - Training error: -0.5513942586896226\n",
      "7 terms - Training error: -0.651970787908971\n"
     ]
    },
    {
     "name": "stderr",
     "output_type": "stream",
     "text": [
      "\u001b[32mProgress:  67%|███████████████████████████▍             |  ETA: 0:00:03\u001b[39m"
     ]
    },
    {
     "name": "stdout",
     "output_type": "stream",
     "text": [
      "8 terms - Training error: -3.4287686199754495\n",
      "9 terms - Training error: -3.4287945829416198\n",
      "10 terms - Training error: -3.4336950620417244\n",
      "1 terms - Training error: 1.4236153643892016, Validation error: 1.3952312084665568\n",
      "1 terms - Training error: 1.4230880730269058, Validation error: 1.3967341226727072\n",
      "2 terms - Training error: 1.0572168029660127, Validation error: 1.0664529289460156\n",
      "3 terms - Training error: 1.0570821401616042, Validation error: 1.06514926914505\n",
      "4 terms - Training error: 1.0330052625686534, Validation error: 1.0417805317545787\n",
      "5 terms - Training error: 1.0325929621989516, Validation error: 1.042855532208457\n",
      "6 terms - Training error: 0.753897783789708, Validation error: 0.7578371279443677\n",
      "7 terms - Training error: 0.7530823429373193, Validation error: 0.7567379400746326\n",
      "8 terms - Training error: -0.23454514985404884, Validation error: -0.2797714538648006\n",
      "9 terms - Training error: -0.24425687163618445, Validation error: -0.27616464970671484\n",
      "1 terms - Training error: 1.4129568050221548, Validation error: 1.4378654459347444\n",
      "1 terms - Training error: 1.4126048616136946, Validation error: 1.4400608717298207\n",
      "2 terms - Training error: 1.4111297071568536, Validation error: 1.4384571575639122\n",
      "3 terms - Training error: 1.4104522768984764, Validation error: 1.4405982312829146\n",
      "4 terms - Training error: 1.4058937331214942, Validation error: 1.4379801864397659\n",
      "5 terms - Training error: 1.4053793134151125, Validation error: 1.4489696547313415\n",
      "6 terms - Training error: 0.9787468829450463, Validation error: 0.9774650746697435\n",
      "7 terms - Training error: 0.9779914152326881, Validation error: 0.975117362408056\n",
      "8 terms - Training error: 0.9216119730921185, Validation error: 0.9219371784787035\n",
      "9 terms - Training error: 0.9215048082583042, Validation error: 0.9211520545226626\n",
      "1 terms - Training error: 1.4151003235981858, Validation error: 1.4292913716306204\n",
      "1 terms - Training error: 1.4145921413426423, Validation error: 1.4306638160116592\n",
      "2 terms - Training error: 1.0568659924730803, Validation error: 1.0674372388339923\n",
      "3 terms - Training error: 1.0565357349991227, Validation error: 1.0664343762892863\n",
      "4 terms - Training error: 1.034010242676399, Validation error: 1.037188088144611\n",
      "5 terms - Training error: 1.0331528846996034, Validation error: 1.0411623672324406\n",
      "6 terms - Training error: 0.7497527457378395, Validation error: 0.7730323984381606\n",
      "7 terms - Training error: 0.7478860182322549, Validation error: 0.7771199249127879\n",
      "8 terms - Training error: -0.2535357545797114, Validation error: -0.20356359101128643\n",
      "9 terms - Training error: -0.26032243152391066, Validation error: -0.21272251247983767\n",
      "1 terms - Training error: 1.4128037306927947, Validation error: 1.438477743252183\n",
      "1 terms - Training error: 1.412673482350063, Validation error: 1.4380332550901074\n",
      "2 terms - Training error: 1.0635611785318684, Validation error: 1.041053249702149\n",
      "3 terms - Training error: 1.0622550767240329, Validation error: 1.0449108231693403\n",
      "4 terms - Training error: 1.038488801009019, Validation error: 1.0197464458615744\n",
      "5 terms - Training error: 1.0384702701167767, Validation error: 1.0194689812836497\n",
      "6 terms - Training error: 1.0377548980474725, Validation error: 1.019890738176638\n",
      "7 terms - Training error: 1.0371781355983758, Validation error: 1.0193052628269212\n",
      "8 terms - Training error: 0.9640799032503946, Validation error: 0.9487694443047519\n",
      "9 terms - Training error: 0.962813142640796, Validation error: 0.9474596067911233\n",
      "1 terms - Training error: 1.4252164423210258, Validation error: 1.3888268967392576\n",
      "1 terms - Training error: 1.4247477358411842, Validation error: 1.3941370339160277\n",
      "2 terms - Training error: 1.4224334643422134, Validation error: 1.412293728869986\n",
      "3 terms - Training error: 0.9767402421274106, Validation error: 0.9897831121140006\n",
      "4 terms - Training error: 0.9763696103130273, Validation error: 0.9906305986291196\n",
      "5 terms - Training error: 0.9216756836465008, Validation error: 0.9216365534858043\n",
      "6 terms - Training error: 0.9215859873634562, Validation error: 0.9218796839092669\n",
      "7 terms - Training error: 0.919023052541781, Validation error: 0.9190053252267097\n",
      "8 terms - Training error: 0.9189552111845282, Validation error: 0.9210839196933315\n",
      "9 terms - Training error: -0.4840100058837132, Validation error: -0.5752598226485605\n",
      "1 terms - Training error: 1.4179385332046726\n",
      "1 terms - Training error: 1.4177379362556197\n",
      "2 terms - Training error: 1.058959711385352\n",
      "3 terms - Training error: 1.0584793459749193\n",
      "4 terms - Training error: 1.0345818478355635\n",
      "5 terms - Training error: 1.0344694625797637\n",
      "6 terms - Training error: 1.0339713210879002\n",
      "7 terms - Training error: 1.0334805435364955\n",
      "8 terms - Training error: 0.7500609419374097\n",
      "9 terms - Training error: 0.7495471006494984\n"
     ]
    },
    {
     "name": "stderr",
     "output_type": "stream",
     "text": [
      "\u001b[32mProgress:  83%|██████████████████████████████████▏      |  ETA: 0:00:01\u001b[39m"
     ]
    },
    {
     "name": "stdout",
     "output_type": "stream",
     "text": [
      "10 terms - Training error: 0.7093076000391453\n",
      "1 terms - Training error: 1.4242773607251793, Validation error: 1.3925832231226452\n",
      "1 terms - Training error: 1.4152519106922599, Validation error: 1.3760320506362753\n",
      "2 terms - Training error: 1.1377329581990643, Validation error: 1.1264915372803945\n",
      "3 terms - Training error: 0.9706283382597434, Validation error: 0.9747562559450281\n",
      "4 terms - Training error: 0.9362313160343357, Validation error: 0.9340779536899037\n",
      "5 terms - Training error: 0.9351917116503181, Validation error: 0.9336245060068222\n",
      "6 terms - Training error: 0.9200371761199252, Validation error: 0.9195790351580526\n",
      "7 terms - Training error: 0.9184048160218573, Validation error: 0.9089692224273221\n",
      "8 terms - Training error: -0.5452105980212709, Validation error: -0.7951318557505052\n",
      "9 terms - Training error: -0.5459744458052133, Validation error: -0.7942819888780019\n",
      "1 terms - Training error: 1.3945308930579439, Validation error: 1.5115690937915878\n",
      "1 terms - Training error: 1.3872232596082783, Validation error: 1.4894293898814785\n",
      "2 terms - Training error: 1.1249750056788566, Validation error: 1.1793654933206783\n",
      "3 terms - Training error: 0.9746089834167558, Validation error: 0.9595715324426999\n",
      "4 terms - Training error: 0.9356897878478306, Validation error: 0.9370555860186767\n",
      "5 terms - Training error: 0.9347855383560806, Validation error: 0.9360495436985358\n",
      "6 terms - Training error: 0.9199135008014244, Validation error: 0.9200916110413825\n",
      "7 terms - Training error: 0.9177674146619841, Validation error: 0.9104037712723052\n",
      "8 terms - Training error: -0.7541937952092892, Validation error: 0.0959910248528996\n",
      "9 terms - Training error: -0.7549448046570743, Validation error: 0.09766369492059636\n",
      "1 terms - Training error: 1.4121936052149437, Validation error: 1.4409182451635887\n",
      "1 terms - Training error: 1.3984633054013977, Validation error: 1.443857327328023\n",
      "2 terms - Training error: 1.1328810001389493, Validation error: 1.1459556310169503\n",
      "3 terms - Training error: 0.9719906292925821, Validation error: 0.9695139506613323\n",
      "4 terms - Training error: 0.934497645805551, Validation error: 0.9411147793298689\n",
      "5 terms - Training error: 0.9335746211947448, Validation error: 0.9401289804174333\n",
      "6 terms - Training error: 0.9195875421987622, Validation error: 0.9214626396869239\n",
      "7 terms - Training error: 0.9107463775702567, Validation error: 0.9423666602199702\n",
      "8 terms - Training error: -0.644854839332511, Validation error: -0.3569436087166404\n",
      "9 terms - Training error: -0.7502322745763461, Validation error: -0.5546183679408603\n",
      "1 terms - Training error: 1.4422554373219378, Validation error: 1.320670916735612\n",
      "1 terms - Training error: 1.4305040243281582, Validation error: 1.314905354204458\n",
      "2 terms - Training error: 1.1419220773283747, Validation error: 1.1110297607350283\n",
      "3 terms - Training error: 0.97053946816979, Validation error: 0.9752954125305736\n",
      "4 terms - Training error: 0.9366350394252162, Validation error: 0.9327059767595933\n",
      "5 terms - Training error: 0.9355874867075121, Validation error: 0.9323102719838862\n",
      "6 terms - Training error: 0.920045703971515, Validation error: 0.9195640384490299\n",
      "7 terms - Training error: 0.9153826537863888, Validation error: 0.9187870124130696\n",
      "8 terms - Training error: -0.4905092646732125, Validation error: -1.0086768076838322\n",
      "9 terms - Training error: -0.6097047854442704, Validation error: -1.117423617165191\n",
      "1 terms - Training error: 1.4164353697033585, Validation error: 1.423951187209929\n",
      "1 terms - Training error: 1.4046973644860994, Validation error: 1.4181332304105854\n",
      "2 terms - Training error: 1.3049697278945303, Validation error: 1.3713936153489072\n",
      "3 terms - Training error: 1.0267027002645372, Validation error: 1.0370747804980032\n",
      "4 terms - Training error: 0.8359551020981036, Validation error: 0.9080777837596987\n",
      "5 terms - Training error: 0.8050303754908681, Validation error: 0.8812375020548711\n",
      "6 terms - Training error: 0.3974893981689809, Validation error: 0.41580940809533645\n",
      "7 terms - Training error: 0.21111692614167485, Validation error: 0.2605350412205032\n",
      "8 terms - Training error: -0.8447637275304114, Validation error: -0.8539189792331228\n",
      "9 terms - Training error: -0.8458699392056452, Validation error: -0.8522865559335626\n",
      "1 terms - Training error: 1.4179385332046728\n",
      "1 terms - Training error: 1.4073526085432726\n",
      "2 terms - Training error: 1.1354699382913562\n",
      "3 terms - Training error: 0.9714444728172191\n",
      "4 terms - Training error: 0.9357650978329254\n",
      "5 terms - Training error: 0.9348408722752337\n",
      "6 terms - Training error: 0.9199415642040847\n",
      "7 terms - Training error: 0.9160292440697483\n"
     ]
    },
    {
     "name": "stderr",
     "output_type": "stream",
     "text": [
      "\u001b[32mProgress: 100%|█████████████████████████████████████████| Time: 0:00:07\u001b[39m\n"
     ]
    },
    {
     "name": "stdout",
     "output_type": "stream",
     "text": [
      "8 terms - Training error: -0.5987045601194573\n",
      "9 terms - Training error: -0.5991407466398974\n",
      "10 terms - Training error: -0.7158203908485145\n",
      " 28.366581 seconds (73.24 M allocations: 6.698 GiB, 5.03% gc time)\n"
     ]
    },
    {
     "data": {
      "text/plain": [
       "HermiteMap(10, 6, LinearTransform(6, [0.44473129082540136, 0.7198137572129855, 23.772946446133272, 0.44424983739899576, 0.7193074613527211, 23.772456523227298], [8.03694827679235 0.0 … 0.0 0.0; 0.0 9.20781362939896 … 0.0 0.0; … ; 0.0 0.0 … 9.207809725124045 0.0; 0.0 0.0 … 0.0 8.515025921069848], true), MapComponent[Map component of dimension 1 with Nψ 7 active features\n",
       ", Map component of dimension 2 with Nψ 9 active features\n",
       ", Map component of dimension 3 with Nψ 10 active features\n",
       ", Map component of dimension 4 with Nψ 10 active features\n",
       ", Map component of dimension 5 with Nψ 10 active features\n",
       ", Map component of dimension 6 with Nψ 10 active features\n",
       "])"
      ]
     },
     "execution_count": 39,
     "metadata": {},
     "output_type": "execute_result"
    }
   ],
   "source": [
    "@time optimize(S, X, \"kfolds\"; withqr = true, verbose = true, hessprecond = true)"
   ]
  },
  {
   "cell_type": "code",
   "execution_count": 44,
   "metadata": {
    "execution": {
     "iopub.execute_input": "2021-04-13T19:07:29.386000-04:00",
     "iopub.status.busy": "2021-04-13T19:07:29.347000-04:00",
     "iopub.status.idle": "2021-04-13T19:07:29.502000-04:00"
    }
   },
   "outputs": [
    {
     "data": {
      "text/plain": [
       "88.70333277572662"
      ]
     },
     "execution_count": 44,
     "metadata": {},
     "output_type": "execute_result"
    }
   ],
   "source": [
    "# Conditioning number of the basis evaluation on the different samples\n",
    "cond(evaluate_basis(S[1].I.f.f,  transform(X[1:1,:])))"
   ]
  },
  {
   "cell_type": "code",
   "execution_count": 41,
   "metadata": {
    "execution": {
     "iopub.execute_input": "2021-04-13T16:39:31.753000-04:00",
     "iopub.status.busy": "2021-04-13T16:39:31.753000-04:00",
     "iopub.status.idle": "2021-04-13T16:39:31.839000-04:00"
    }
   },
   "outputs": [
    {
     "data": {
      "text/plain": [
       "4-element Array{Float64,1}:\n",
       " -1.0\n",
       "  1.0\n",
       "  0.0\n",
       "  1.0"
      ]
     },
     "execution_count": 41,
     "metadata": {},
     "output_type": "execute_result"
    }
   ],
   "source": [
    "sign.([-1.0;2.0; 0.0; 3.0])"
   ]
  },
  {
   "cell_type": "code",
   "execution_count": 45,
   "metadata": {
    "execution": {
     "iopub.execute_input": "2021-04-13T19:07:39.510000-04:00",
     "iopub.status.busy": "2021-04-13T19:07:39.508000-04:00",
     "iopub.status.idle": "2021-04-13T19:07:39.546000-04:00"
    }
   },
   "outputs": [
    {
     "data": {
      "text/plain": [
       "QRscaling([-22.360679774997894 -1.0821908874452222 … -1.8638312383067885 2.1219878808790935; 0.0 22.33447700043882 … 7.4988364072686124 1.6987448533366203; … ; 0.0 0.0 … 3.331409546479707 -0.3110792123954399; 0.0 0.0 … 0.0 1.4262013217975553], [-0.0447213595499958 -0.0021669210243076627 … 0.02026328416870891 0.294275554847424; 0.0 0.04477382658122473 … 0.2881453674718176 0.07625898486825916; … ; 0.0 0.0 … 0.30017324080033864 0.0654729833041136; 0.0 0.0 … 0.0 0.7011632822914652], [0.522238041179522 0.0 … 0.0 0.0; 0.0 0.393833039785888 … 0.0 0.0; … ; 0.0 0.0 … 0.24819811539607292 0.0; 0.0 0.0 … 0.0 0.25523529073595885], [1.9148356135478168 0.0 … 0.0 0.0; 0.0 2.5391470470422233 … 0.0 0.0; … ; 0.0 0.0 … 4.029039456662298 0.0; 0.0 0.0 … 0.0 3.9179534974044827], [-11.677597605137455 -0.4262025268311396 … -0.4625994007640738 0.5416061937143567; 0.0 8.796054969110823 … 1.861197063947528 0.4335796365275861; … ; 0.0 0.0 … 0.8268495710487493 -0.07939839321766319; 0.0 0.0 … 0.0 0.36401690901700784], [-0.08563405195260873 -0.004149297549089827 … 0.03880085817368349 0.5634893126183914; 0.0 0.11368732954849738 … 0.731643458934962 0.19363277623867783; … ; 0.0 0.0 … 1.2094098310187575 0.26379323307766556; 0.0 0.0 … 0.0 2.7471251341054526], [0.007333190853822091 0.00035532116188559035 … -0.0033226747046510153 -0.04825387307150311; 0.00035532116188559035 0.012942025570019527 … 0.08301759472221888 0.019675508419851214; … ; -0.0033226747046510153 0.08301759472221888 … 5.1433362329828025 2.4249999097852744; -0.04825387307150311 0.019675508419851214 … 2.4249999097852744 45.566715841985015])"
      ]
     },
     "execution_count": 45,
     "metadata": {},
     "output_type": "execute_result"
    }
   ],
   "source": [
    "stor = Storage(S[1].I.f, transform(X[1:1,:]))\n",
    "q = QRscaling(stor)"
   ]
  },
  {
   "cell_type": "code",
   "execution_count": 46,
   "metadata": {
    "execution": {
     "iopub.execute_input": "2021-04-13T19:09:42.660000-04:00",
     "iopub.status.busy": "2021-04-13T19:09:42.658000-04:00",
     "iopub.status.idle": "2021-04-13T19:09:42.939000-04:00"
    }
   },
   "outputs": [
    {
     "data": {
      "image/png": "[encoded data removed]"
     },
     "execution_count": 46,
     "metadata": {},
     "output_type": "execute_result"
    }
   ],
   "source": [
    "heatmap(log10.(abs.(q.R)), yflip =true, ratio = 1, colorbartitle = L\"\\log_{10}(R)\")\n",
    "# savefig(\"R_matrix.pdf\")"
   ]
  },
  {
   "cell_type": "code",
   "execution_count": 47,
   "metadata": {
    "execution": {
     "iopub.execute_input": "2021-04-13T19:09:54.215000-04:00",
     "iopub.status.busy": "2021-04-13T19:09:54.215000-04:00",
     "iopub.status.idle": "2021-04-13T19:09:54.337000-04:00"
    }
   },
   "outputs": [
    {
     "data": {
      "text/plain": [
       "77.78082627314554"
      ]
     },
     "execution_count": 47,
     "metadata": {},
     "output_type": "execute_result"
    }
   ],
   "source": [
    "cond(q.R)"
   ]
  },
  {
   "cell_type": "code",
   "execution_count": 48,
   "metadata": {
    "execution": {
     "iopub.execute_input": "2021-04-13T19:09:57.773000-04:00",
     "iopub.status.busy": "2021-04-13T19:09:57.773000-04:00",
     "iopub.status.idle": "2021-04-13T19:09:57.793000-04:00"
    }
   },
   "outputs": [
    {
     "data": {
      "text/plain": [
       "10-element Array{Float64,1}:\n",
       "  32.51105882993062\n",
       " -18.69672660919596\n",
       " -13.56090780718974\n",
       "  10.564117524173593\n",
       "  -2.0067063963718903\n",
       "   6.744544348706691\n",
       "  -0.9050345522107038\n",
       "   0.9325270462883335\n",
       "   2.576177875541611\n",
       "  -2.537766688473315"
      ]
     },
     "execution_count": 48,
     "metadata": {},
     "output_type": "execute_result"
    }
   ],
   "source": [
    "getcoeff(S[3])"
   ]
  },
  {
   "cell_type": "code",
   "execution_count": 49,
   "metadata": {
    "execution": {
     "iopub.execute_input": "2021-04-13T19:10:01.345000-04:00",
     "iopub.status.busy": "2021-04-13T19:10:01.344000-04:00",
     "iopub.status.idle": "2021-04-13T19:10:01.367000-04:00"
    }
   },
   "outputs": [
    {
     "data": {
      "text/plain": [
       "4.574823162368109e12"
      ]
     },
     "execution_count": 49,
     "metadata": {},
     "output_type": "execute_result"
    }
   ],
   "source": [
    "cond(evaluate_basis(S[6].I.f.f, X[1:6,:]))"
   ]
  },
  {
   "cell_type": "code",
   "execution_count": 50,
   "metadata": {
    "execution": {
     "iopub.execute_input": "2021-04-13T19:10:19.630000-04:00",
     "iopub.status.busy": "2021-04-13T19:10:19.629000-04:00",
     "iopub.status.idle": "2021-04-13T19:10:19.842000-04:00"
    }
   },
   "outputs": [
    {
     "data": {
      "text/plain": [
       "7×7 Array{Float64,2}:\n",
       "  0.000787316   7.61998e-7    0.000394065  …  -0.000966229  -0.0353462\n",
       "  7.61998e-7    0.000459073  -0.000101139     -0.0103273     0.00479452\n",
       "  0.000394065  -0.000101139   0.00076143       0.00650028   -0.0286739\n",
       " -0.00024202   -0.00110674    0.000554833      0.0738137     0.0333796\n",
       " -0.00582439    0.000266976  -0.00365685       0.034416      0.697129\n",
       " -0.000966229  -0.0103273     0.00650028   …   0.717397      0.0662043\n",
       " -0.0353462     0.00479452   -0.0286739        0.0662043     4.64762"
      ]
     },
     "execution_count": 50,
     "metadata": {},
     "output_type": "execute_result"
    }
   ],
   "source": [
    "P = zeros(ncoeff(S[1]), ncoeff(S[1]))\n",
    "precond!(P, getcoeff(S[1]), stor, S[1], X[1:1,:])\n",
    "\n",
    "Pqr = zeros(ncoeff(S[1]), ncoeff(S[1]))\n",
    "qrprecond!(Pqr, q.U*getcoeff(S[1]), q, stor, S[1], X[1:1,:])"
   ]
  },
  {
   "cell_type": "code",
   "execution_count": 42,
   "metadata": {},
   "outputs": [
    {
     "data": {
      "text/plain": [
       "61.5983032653512"
      ]
     },
     "execution_count": 42,
     "metadata": {},
     "output_type": "execute_result"
    }
   ],
   "source": [
    "cond(P)"
   ]
  },
  {
   "cell_type": "code",
   "execution_count": 43,
   "metadata": {},
   "outputs": [
    {
     "data": {
      "text/plain": [
       "31758.93211495225"
      ]
     },
     "execution_count": 43,
     "metadata": {},
     "output_type": "execute_result"
    }
   ],
   "source": [
    "cond(Pqr)"
   ]
  },
  {
   "cell_type": "code",
   "execution_count": 44,
   "metadata": {},
   "outputs": [
    {
     "data": {
      "image/png": "[encoded data removed]"
     },
     "execution_count": 44,
     "metadata": {},
     "output_type": "execute_result"
    }
   ],
   "source": [
    "plot(S)"
   ]
  },
  {
   "cell_type": "code",
   "execution_count": 51,
   "metadata": {
    "execution": {
     "iopub.execute_input": "2021-04-13T19:10:34.345000-04:00",
     "iopub.status.busy": "2021-04-13T19:10:34.345000-04:00",
     "iopub.status.idle": "2021-04-13T19:10:47.706000-04:00"
    }
   },
   "outputs": [
    {
     "data": {
      "text/plain": [
       "6×6 Array{Float64,2}:\n",
       "    2.78173e13      9.0288e7   …    716.808      4636.75\n",
       "    9.0288e7        4.87369e7         0.0           0.0\n",
       "    2.56274e5   41503.2           21269.3           1.03282e10\n",
       "    2.76214e13      0.0               1.03028e6     0.0\n",
       "  716.808           0.0               1.68442e6  9711.03\n",
       " 4636.75            0.0        …   9711.03          1.07049e10"
      ]
     },
     "execution_count": 51,
     "metadata": {},
     "output_type": "execute_result"
    }
   ],
   "source": [
    "Ωhat = zeros(Ny + Nx, Ny + Nx)\n",
    "cache = zeros(1, Ny + Nx, Ny + Nx)\n",
    "for i=1:Ne\n",
    "    hess_x_log_pdf!(cache, S, X[:,i:i])\n",
    "    Ωhat .+= copy(cache[1,:,:]).^2\n",
    "end\n",
    "rmul!(Ωhat, 1/Ne)"
   ]
  },
  {
   "cell_type": "code",
   "execution_count": 52,
   "metadata": {
    "execution": {
     "iopub.execute_input": "2021-04-13T19:11:39.770000-04:00",
     "iopub.status.busy": "2021-04-13T19:11:39.770000-04:00",
     "iopub.status.idle": "2021-04-13T19:11:43.124000-04:00"
    }
   },
   "outputs": [
    {
     "data": {
      "image/png": "[encoded data removed]"
     },
     "execution_count": 52,
     "metadata": {},
     "output_type": "execute_result"
    }
   ],
   "source": [
    "plt = plot()\n",
    "\n",
    "heatmap!(plt,log10.(Ωhat), ratio = 1, yflip = true, \n",
    "        colorbar = true, color = :plasma, clim = (2.0, Inf), colorbar_title = L\"\\log_{10}(\\hat{\\Omega})\",\n",
    "        xlabel = \"Index\", ylabel = \"Index\", background_color_inside = palette(:plasma)[1], \n",
    "        yticks = (reverse(collect(0:10:Nx))))\n",
    "plt"
   ]
  },
  {
   "cell_type": "markdown",
   "metadata": {},
   "source": [
    "The rest is work in progress"
   ]
  },
  {
   "cell_type": "code",
   "execution_count": null,
   "metadata": {},
   "outputs": [],
   "source": []
  },
  {
   "cell_type": "markdown",
   "metadata": {},
   "source": [
    "Set initial condition of the true system"
   ]
  },
  {
   "cell_type": "code",
   "execution_count": 53,
   "metadata": {
    "execution": {
     "iopub.execute_input": "2021-04-13T19:11:58.151000-04:00",
     "iopub.status.busy": "2021-04-13T19:11:58.151000-04:00",
     "iopub.status.idle": "2021-04-13T19:11:58.169000-04:00"
    }
   },
   "outputs": [],
   "source": [
    "x0 = rand(model.π0);"
   ]
  },
  {
   "cell_type": "code",
   "execution_count": 55,
   "metadata": {
    "execution": {
     "iopub.execute_input": "2021-04-13T19:12:16.030000-04:00",
     "iopub.status.busy": "2021-04-13T19:12:16.030000-04:00",
     "iopub.status.idle": "2021-04-13T19:12:16.531000-04:00"
    }
   },
   "outputs": [],
   "source": [
    "data = generate_lorenz63(model, x0, Tf);"
   ]
  },
  {
   "cell_type": "markdown",
   "metadata": {},
   "source": [
    "Initialize the ensemble matrix `X` $\\in \\mathbb{R}^{(N_y + N_x) \\times N_e}$."
   ]
  },
  {
   "cell_type": "code",
   "execution_count": 56,
   "metadata": {
    "execution": {
     "iopub.execute_input": "2021-04-13T19:13:29.391000-04:00",
     "iopub.status.busy": "2021-04-13T19:13:29.391000-04:00",
     "iopub.status.idle": "2021-04-13T19:13:30.187000-04:00"
    }
   },
   "outputs": [
    {
     "data": {
      "text/plain": [
       "3×500 view(::Array{Float64,2}, 4:6, :) with eltype Float64:\n",
       " 0.296368  -0.105481  -1.16144   …  0.710301   0.926892   -0.450892\n",
       " 1.37527    1.72436   -1.47446      0.303214  -1.409      -0.634042\n",
       " 1.32249    1.74407    0.281319     0.431843  -0.0383558  -0.495254"
      ]
     },
     "execution_count": 56,
     "metadata": {},
     "output_type": "execute_result"
    }
   ],
   "source": [
    "Ne = 500 #ensemble size\n",
    "X = zeros(model.Ny + model.Nx, Ne)\n",
    "\n",
    "# Generate the initial conditions for the state (ensemble).\n",
    "viewstate(X, model.Ny, model.Nx) .= rand(model.π0, Ne)"
   ]
  },
  {
   "cell_type": "code",
   "execution_count": 57,
   "metadata": {
    "execution": {
     "iopub.execute_input": "2021-04-13T19:13:53.215000-04:00",
     "iopub.status.busy": "2021-04-13T19:13:53.214000-04:00",
     "iopub.status.idle": "2021-04-13T19:13:53.454000-04:00"
    }
   },
   "outputs": [
    {
     "data": {
      "text/plain": [
       "Stochastic Map Filter with filtered = false\n"
      ]
     },
     "execution_count": 57,
     "metadata": {},
     "output_type": "execute_result"
    }
   ],
   "source": [
    "smf = StochMapFilter(x->x, ϵy, S, Ny, Nx, Δtdyn, Δtobs, 2*Δtobs, false)"
   ]
  },
  {
   "cell_type": "code",
   "execution_count": 60,
   "metadata": {
    "execution": {
     "iopub.execute_input": "2021-04-13T19:23:39.493000-04:00",
     "iopub.status.busy": "2021-04-13T19:23:39.493000-04:00",
     "iopub.status.idle": "2021-04-13T19:23:39.640000-04:00"
    },
    "scrolled": true
   },
   "outputs": [
    {
     "name": "stdout",
     "output_type": "stream",
     "text": [
      "t = 0.1\n",
      "getcoeff(M[6]) = [4.159797723746049, -3.4526678296966233, -3.204227930151605, -25.202159227782698, -1.8938893065403914, -3.7086848473476746, 2.4513492662140592, 22.26184454351894, -0.06492991240054735, 1.554862077983909]\n"
     ]
    },
    {
     "ename": "LoadError",
     "evalue": "DomainError with 0.5:\nintegrand produced NaN in the interval (0.0, 1.0)",
     "output_type": "error",
     "traceback": [
      "DomainError with 0.5:\nintegrand produced NaN in the interval (0.0, 1.0)",
      "",
      "Stacktrace:",
      " [1] evalrule(::QuadGK.InplaceIntegrand{AdaptiveTransportMap.var\"#integrand!#141\"{Array{Float64,1},Array{Float64,2},Array{Float64,2},Array{Float64,2},IntegratedFunction},Array{Float64,1},Array{Float64,1}}, ::Float64, ::Float64, ::Array{Float64,1}, ::Array{Float64,1}, ::Array{Float64,1}, ::typeof(norm)) at /Users/aimee/.julia/packages/QuadGK/czbUH/src/evalrule.jl:84",
      " [2] #2 at /Users/aimee/.julia/packages/QuadGK/czbUH/src/adapt.jl:10 [inlined]",
      " [3] ntuple at ./ntuple.jl:41 [inlined]",
      " [4] do_quadgk(::QuadGK.InplaceIntegrand{AdaptiveTransportMap.var\"#integrand!#141\"{Array{Float64,1},Array{Float64,2},Array{Float64,2},Array{Float64,2},IntegratedFunction},Array{Float64,1},Array{Float64,1}}, ::Tuple{Float64,Float64}, ::Int64, ::Nothing, ::Float64, ::Int64, ::typeof(norm)) at /Users/aimee/.julia/packages/QuadGK/czbUH/src/adapt.jl:10",
      " [5] #28 at /Users/aimee/.julia/packages/QuadGK/czbUH/src/adapt.jl:179 [inlined]",
      " [6] handle_infinities at /Users/aimee/.julia/packages/QuadGK/czbUH/src/adapt.jl:113 [inlined]",
      " [7] #quadgk#27 at /Users/aimee/.julia/packages/QuadGK/czbUH/src/adapt.jl:177 [inlined]",
      " [8] #quadgk!#30 at /Users/aimee/.julia/packages/QuadGK/czbUH/src/adapt.jl:205 [inlined]",
      " [9] functionalf!(::Array{Float64,1}, ::Array{Float64,1}, ::Array{Float64,2}, ::Array{Float64,2}, ::Array{Float64,2}, ::SubArray{Float64,1,Array{Float64,2},Tuple{Int64,Base.Slice{Base.OneTo{Int64}}},true}, ::IntegratedFunction) at /Users/aimee/.julia/packages/AdaptiveTransportMap/osyHj/src/mapcomponent/inverse.jl:20",
      " [10] #142 at /Users/aimee/.julia/packages/AdaptiveTransportMap/osyHj/src/mapcomponent/inverse.jl:29 [inlined]",
      " [11] (::NLSolversBase.var\"#fj!#7\"{AdaptiveTransportMap.var\"#142#143\"{Array{Float64,2},Array{Float64,2},Array{Float64,2},SubArray{Float64,1,Array{Float64,2},Tuple{Int64,Base.Slice{Base.OneTo{Int64}}},true},IntegratedFunction},AdaptiveTransportMap.var\"#144#145\"{Array{Float64,2},Array{Float64,2},Array{Float64,2},SubArray{Float64,1,Array{Float64,2},Tuple{Int64,Base.Slice{Base.OneTo{Int64}}},true},IntegratedFunction}})(::Array{Float64,1}, ::Diagonal{Float64,Array{Float64,1}}, ::Array{Float64,1}) at /Users/aimee/.julia/packages/NLSolversBase/geyh3/src/objective_types/abstract.jl:8",
      " [12] value_jacobian!!(::NLSolversBase.OnceDifferentiable{Array{Float64,1},Diagonal{Float64,Array{Float64,1}},Array{Float64,1}}, ::Array{Float64,1}, ::Diagonal{Float64,Array{Float64,1}}, ::Array{Float64,1}) at /Users/aimee/.julia/packages/NLSolversBase/geyh3/src/interface.jl:124",
      " [13] value_jacobian! at /Users/aimee/.julia/packages/NLSolversBase/geyh3/src/interface.jl:114 [inlined]",
      " [14] value_jacobian! at /Users/aimee/.julia/packages/NLSolversBase/geyh3/src/interface.jl:111 [inlined]",
      " [15] (::NLsolve.var\"#fgo!#6\"{NLSolversBase.OnceDifferentiable{Array{Float64,1},Diagonal{Float64,Array{Float64,1}},Array{Float64,1}},Array{Float64,1}})(::Array{Float64,1}, ::Array{Float64,1}) at /Users/aimee/.julia/packages/NLsolve/gJL1I/src/solvers/newton.jl:79",
      " [16] value_gradient!!(::NLSolversBase.OnceDifferentiable{Float64,Array{Float64,1},Array{Float64,1}}, ::Array{Float64,1}) at /Users/aimee/.julia/packages/NLSolversBase/geyh3/src/interface.jl:82",
      " [17] value_gradient! at /Users/aimee/.julia/packages/NLSolversBase/geyh3/src/interface.jl:69 [inlined]",
      " [18] (::LineSearches.var\"#ϕdϕ#2\"{NLSolversBase.OnceDifferentiable{Float64,Array{Float64,1},Array{Float64,1}},Array{Float64,1},Array{Float64,1},Array{Float64,1}})(::Float64) at /Users/aimee/.julia/packages/LineSearches/Ki4c5/src/LineSearches.jl:35",
      " [19] (::LineSearches.MoreThuente{Float64})(::LineSearches.var\"#ϕdϕ#2\"{NLSolversBase.OnceDifferentiable{Float64,Array{Float64,1},Array{Float64,1}},Array{Float64,1},Array{Float64,1},Array{Float64,1}}, ::Float64, ::Float64, ::Float64) at /Users/aimee/.julia/packages/LineSearches/Ki4c5/src/morethuente.jl:226",
      " [20] MoreThuente at /Users/aimee/.julia/packages/LineSearches/Ki4c5/src/morethuente.jl:154 [inlined]",
      " [21] newton_(::NLSolversBase.OnceDifferentiable{Array{Float64,1},Diagonal{Float64,Array{Float64,1}},Array{Float64,1}}, ::Array{Float64,1}, ::Float64, ::Float64, ::Int64, ::Bool, ::Bool, ::Bool, ::LineSearches.MoreThuente{Float64}, ::NLsolve.var\"#27#29\", ::NLsolve.NewtonCache{Array{Float64,1}}) at /Users/aimee/.julia/packages/NLsolve/gJL1I/src/solvers/newton.jl:119",
      " [22] #newton#7 at /Users/aimee/.julia/packages/NLsolve/gJL1I/src/solvers/newton.jl:146 [inlined]",
      " [23] nlsolve(::NLSolversBase.OnceDifferentiable{Array{Float64,1},Diagonal{Float64,Array{Float64,1}},Array{Float64,1}}, ::Array{Float64,1}; method::Symbol, xtol::Float64, ftol::Float64, iterations::Int64, store_trace::Bool, show_trace::Bool, extended_trace::Bool, linesearch::LineSearches.MoreThuente{Float64}, linsolve::NLsolve.var\"#27#29\", factor::Float64, autoscale::Bool, m::Int64, beta::Int64, aa_start::Int64, droptol::Float64) at /Users/aimee/.julia/packages/NLsolve/gJL1I/src/nlsolve/nlsolve.jl:23",
      " [24] inverse!(::SubArray{Float64,2,Array{Float64,2},Tuple{UnitRange{Int64},Base.Slice{Base.OneTo{Int64}}},false}, ::SubArray{Float64,1,Array{Float64,2},Tuple{Int64,Base.Slice{Base.OneTo{Int64}}},true}, ::IntegratedFunction, ::Storage) at /Users/aimee/.julia/packages/AdaptiveTransportMap/osyHj/src/mapcomponent/inverse.jl:81",
      " [25] inverse! at /Users/aimee/.julia/packages/AdaptiveTransportMap/osyHj/src/mapcomponent/inverse.jl:92 [inlined]",
      " [26] inverse!(::Array{Float64,2}, ::Array{Float64,2}, ::HermiteMap, ::Array{Float64,1}; apply_rescaling::Bool, start::Int64, P::Serial) at /Users/aimee/.julia/packages/AdaptiveTransportMap/osyHj/src/mapcomponent/hermitemap.jl:483",
      " [27] (::StochMapFilter)(::Array{Float64,2}, ::Array{Float64,1}, ::Float64) at /Users/aimee/.julia/packages/AdaptiveTransportMap/osyHj/src/mapcomponent/stochmapfilter.jl:77",
      " [28] seqassim(::StateSpace, ::SyntheticData, ::Int64, ::AdditiveInflation, ::StochMapFilter, ::Array{Float64,2}, ::Int64, ::Int64, ::Float64) at /Users/aimee/.julia/packages/AdaptiveTransportMap/osyHj/src/DA/seqassim.jl:51",
      " [29] top-level scope at In[60]:1",
      " [30] include_string(::Function, ::Module, ::String, ::String) at ./loading.jl:1091",
      " [31] execute_code(::String, ::String) at /Users/aimee/.julia/packages/IJulia/a1SNk/src/execute_request.jl:27",
      " [32] execute_request(::ZMQ.Socket, ::IJulia.Msg) at /Users/aimee/.julia/packages/IJulia/a1SNk/src/execute_request.jl:86",
      " [33] #invokelatest#1 at ./essentials.jl:710 [inlined]",
      " [34] invokelatest at ./essentials.jl:709 [inlined]",
      " [35] eventloop(::ZMQ.Socket) at /Users/aimee/.julia/packages/IJulia/a1SNk/src/eventloop.jl:8",
      " [36] (::IJulia.var\"#15#18\")() at ./task.jl:356"
     ]
    }
   ],
   "source": [
    "Xsmf = seqassim(F, data, 200, model.ϵx, smf, deepcopy(X), model.Ny, model.Nx, t0);"
   ]
  },
  {
   "cell_type": "code",
   "execution_count": 206,
   "metadata": {},
   "outputs": [
    {
     "data": {
      "text/plain": [
       "1"
      ]
     },
     "execution_count": 206,
     "metadata": {},
     "output_type": "execute_result"
    }
   ],
   "source": [
    "nb = 1\n",
    "ne = 100\n",
    "Δ = 1"
   ]
  },
  {
   "cell_type": "code",
   "execution_count": 202,
   "metadata": {},
   "outputs": [
    {
     "data": {
      "text/plain": [
       "3×1000 Array{Float64,2}:\n",
       " 2.19995    6.69494  17.0328  15.0845   …  -2.16126  -3.73518   -7.39222\n",
       " 4.48947   14.1139   27.3883   0.19421     -3.02302  -6.17331  -12.6411\n",
       " 0.767393   4.11424  27.2119  46.6231      16.6741   14.0126    15.3754"
      ]
     },
     "execution_count": 202,
     "metadata": {},
     "output_type": "execute_result"
    }
   ],
   "source": [
    "data.xt"
   ]
  },
  {
   "cell_type": "code",
   "execution_count": 207,
   "metadata": {},
   "outputs": [
    {
     "data": {
      "image/png": "[encoded data removed]"
     },
     "execution_count": 207,
     "metadata": {},
     "output_type": "execute_result"
    }
   ],
   "source": [
    "plot(data.tt[nb:Δ:ne], mean_hist(Xsmf)[1,:])\n",
    "plot!(data.tt[nb:Δ:ne], data.xt[1,nb:Δ:ne], linewidth =  3, color = :teal, label = \"True\")"
   ]
  },
  {
   "cell_type": "code",
   "execution_count": 94,
   "metadata": {},
   "outputs": [
    {
     "ename": "LoadError",
     "evalue": "\u001b[91mBoundsError: attempt to access 3×201 Array{Float64,2} at index [1, 2:1:500]\u001b[39m",
     "output_type": "error",
     "traceback": [
      "\u001b[91mBoundsError: attempt to access 3×201 Array{Float64,2} at index [1, 2:1:500]\u001b[39m",
      "",
      "Stacktrace:",
      " [1] throw_boundserror(::Array{Float64,2}, ::Tuple{Int64,StepRange{Int64,Int64}}) at ./abstractarray.jl:541",
      " [2] checkbounds at ./abstractarray.jl:506 [inlined]",
      " [3] _getindex at ./multidimensional.jl:742 [inlined]",
      " [4] getindex(::Array{Float64,2}, ::Int64, ::StepRange{Int64,Int64}) at ./abstractarray.jl:1060",
      " [5] top-level scope at In[94]:7",
      " [6] include_string(::Function, ::Module, ::String, ::String) at ./loading.jl:1091"
     ]
    }
   ],
   "source": [
    "# Plot the first component of the state over time\n",
    "nb = 1\n",
    "ne = 499\n",
    "Δ = 1\n",
    "plt = plot(xlim = (-Inf, Inf), ylim = (-Inf, Inf), xlabel = L\"t\", ylabel = L\"x_1\")\n",
    "plot!(plt, data.tt[nb:Δ:ne], data.xt[1,nb:Δ:ne], linewidth =  3, color = :teal, label = \"True\")\n",
    "plot!(plt, data.tt[nb:Δ:ne], mean_hist(Xsmf)[1,1+nb:Δ:1+ne], linewidth = 3, grid = false,\n",
    "     color = :orangered2, linestyle = :dash, label = \"Stochastic Map Filter\")\n",
    "scatter!(plt, data.tt[nb:Δ:ne], data.yt[1,nb:Δ:ne], linewidth = 3, color = :grey, markersize = 5, alpha = 0.5, label = \"Observation\")\n",
    "plt"
   ]
  },
  {
   "cell_type": "code",
   "execution_count": 33,
   "metadata": {},
   "outputs": [
    {
     "ename": "LoadError",
     "evalue": "\u001b[91mBoundsError: attempt to access 1000-element Array{Float64,1} at index [5500]\u001b[39m",
     "output_type": "error",
     "traceback": [
      "\u001b[91mBoundsError: attempt to access 1000-element Array{Float64,1} at index [5500]\u001b[39m",
      "",
      "Stacktrace:",
      " [1] getindex at ./array.jl:809 [inlined]",
      " [2] getindex(::Array{Float64,1}, ::StepRange{Int64,Int64}) at ./array.jl:834",
      " [3] top-level scope at ./In[33]:9",
      " [4] include_string(::Function, ::Module, ::String, ::String) at ./loading.jl:1091"
     ]
    }
   ],
   "source": [
    "# Plot the different component of the state over time\n",
    "nb = 5500\n",
    "ne = 6000\n",
    "Δ = 1\n",
    "plt = plot(layout = grid(3,1), xlim = (-Inf, Inf), ylim = (-Inf, Inf), xlabel = L\"t\", \n",
    "           size = (900, 1000))\n",
    "\n",
    "for i =1:3\n",
    "    plot!(plt[i,1], data.tt[nb:Δ:ne], data.xt[i,nb:Δ:ne], linewidth =  2, color = :teal, \n",
    "          ylabel = latexstring(\"x_\"*string(i)), legend = (i == 1), label = \"True\")\n",
    "    plot!(plt[i,1], data.tt[nb:Δ:ne], mean_hist(Xsmf)[i,1+nb:Δ:1+ne], linewidth = 2, grid = false,\n",
    "          color = :orangered2, linestyle = :dash, label = \"sEnKF\")\n",
    "    scatter!(plt[i,1], data.tt[nb:Δ:ne], data.yt[i,nb:Δ:ne], linewidth = 3, color = :grey, \n",
    "          markersize = 5, alpha = 0.5, label  = \"Observation\")\n",
    "end\n",
    "\n",
    "plt"
   ]
  },
  {
   "cell_type": "markdown",
   "metadata": {},
   "source": [
    "Talk about the benchmark of the different filters"
   ]
  },
  {
   "cell_type": "markdown",
   "metadata": {},
   "source": [
    "### Benchmark of the EnKF filter"
   ]
  },
  {
   "cell_type": "code",
   "execution_count": 116,
   "metadata": {},
   "outputs": [
    {
     "name": "stdout",
     "output_type": "stream",
     "text": [
      "Ne 10 RMSE: 3.8254663423276716\n",
      "Ne 20 RMSE: 2.0605921219961134\n",
      "Ne 40 RMSE: 0.4223537564608097\n",
      "Ne 60 RMSE: 0.40146546759545937\n",
      "Ne 100 RMSE: 0.3877197292448612\n",
      "Ne 200 RMSE: 0.4025809532902939\n",
      " 15.443304 seconds (68.89 M allocations: 6.501 GiB, 6.17% gc time)\n"
     ]
    }
   ],
   "source": [
    "path = pwd()*\"/lorenz63/data/\"\n",
    "Nx = 3\n",
    "Ny = 3\n",
    "Ne_array = [10, 20, 40, 60, 100, 200];\n",
    "@time model, data = setup_lorenz63(path, Ne_array);"
   ]
  },
  {
   "cell_type": "code",
   "execution_count": 55,
   "metadata": {},
   "outputs": [
    {
     "name": "stdout",
     "output_type": "stream",
     "text": [
      "(Ne, β) = (10, 1.0)\n",
      "  0.482682 seconds (3.47 M allocations: 329.564 MiB, 11.44% gc time)\n",
      "Ne = 10\n",
      "Ne 10& β 1.0 RMSE: 0.6015590736992926\n"
     ]
    },
    {
     "name": "stderr",
     "output_type": "stream",
     "text": [
      "\u001b[32mProgress:  17%|██████▉                                  |  ETA: 0:00:05\u001b[39m"
     ]
    },
    {
     "name": "stdout",
     "output_type": "stream",
     "text": [
      "(Ne, β) = (20, 1.0)\n",
      "  "
     ]
    },
    {
     "name": "stderr",
     "output_type": "stream",
     "text": [
      "\u001b[32mProgress:  33%|█████████████▋                           |  ETA: 0:00:04\u001b[39m"
     ]
    },
    {
     "name": "stdout",
     "output_type": "stream",
     "text": [
      "0.859515 seconds (6.59 M allocations: 631.994 MiB, 8.56% gc time)\n",
      "Ne = 20\n",
      "Ne 20& β 1.0 RMSE: 0.5184477645494938\n",
      "(Ne, β) = (40, 1.0)\n",
      "  "
     ]
    },
    {
     "name": "stderr",
     "output_type": "stream",
     "text": [
      "\u001b[32mProgress:  50%|████████████████████▌                    |  ETA: 0:00:04\u001b[39m"
     ]
    },
    {
     "name": "stdout",
     "output_type": "stream",
     "text": [
      "1.662244 seconds (12.83 M allocations: 1.210 GiB, 8.65% gc time)\n",
      "Ne = 40\n",
      "Ne 40& β 1.0 RMSE: 0.4483744816193398\n",
      "(Ne, β) = (60, 1.0)\n",
      "  "
     ]
    },
    {
     "name": "stderr",
     "output_type": "stream",
     "text": [
      "\u001b[32mProgress:  67%|███████████████████████████▍             |  ETA: 0:00:03\u001b[39m"
     ]
    },
    {
     "name": "stdout",
     "output_type": "stream",
     "text": [
      "2.463622 seconds (19.07 M allocations: 1.804 GiB, 8.51% gc time)\n",
      "Ne = 60\n",
      "Ne 60& β 1.0 RMSE: 0.4403101469791623\n",
      "(Ne, β) = (100, 1.0)\n",
      "  "
     ]
    },
    {
     "name": "stderr",
     "output_type": "stream",
     "text": [
      "\u001b[32mProgress:  83%|██████████████████████████████████▏      |  ETA: 0:00:02\u001b[39m"
     ]
    },
    {
     "name": "stdout",
     "output_type": "stream",
     "text": [
      "4.334649 seconds (31.55 M allocations: 2.983 GiB, 8.49% gc time)\n",
      "Ne = 100\n",
      "Ne 100& β 1.0 RMSE: 0.4303647629868742\n",
      "(Ne, β) = (200, 1.0)\n",
      " 13.776164 seconds (62.75 M allocations: 5.935 GiB, 7.19% gc time)\n",
      "Ne = 200\n",
      "Ne 200& β 1.0 RMSE: 0.4465248257137066"
     ]
    },
    {
     "name": "stderr",
     "output_type": "stream",
     "text": [
      "\u001b[32mProgress: 100%|█████████████████████████████████████████| Time: 0:00:24\u001b[39m\n"
     ]
    },
    {
     "name": "stdout",
     "output_type": "stream",
     "text": [
      "\n"
     ]
    },
    {
     "data": {
      "text/plain": [
       "6-element Array{Any,1}:\n",
       " Metrics[Metrics(10, [0.8166106052280312, 0.8477976249831615, 0.5377435004826744, 0.2946057216215732, 0.1963372890873663, 0.1661211989653268, 0.09550122139602638, 0.10895691501209233, 0.061645037116889324, 0.1556247918798692  …  4.0942175082812975, 2.918216773645667, 2.293946056603929, 2.3368525142834664, 2.9966610036699945, 2.488711153121422, 2.060789991067101, 2.000268585410395, 2.0094430111553767, 1.633586039615903], 0.37686107778341077, 0.6015590736992926, 0.8149386709205617, [1.0125271950095414, 0.9623361052178709, 0.7792957424814254, 0.4344193482216172, 0.2873587820499424, 0.2729751953413108, 0.40382950988831384, 0.6108278943470481, 0.6592219807793599, 0.4157011617649463  …  0.6622613427311322, 0.9156031963385003, 1.1880540752197546, 1.010250360884169, 0.9055102239545725, 0.6429162631150634, 0.5592022167774022, 0.6557579770729094, 0.987851621549649, 1.1234614213819019], 0.4419068954362283, 0.5053138269227165, 0.25903240927442023, [1.0, 1.0, 0.6666666666666666, 0.6666666666666666, 1.0, 1.0, 1.0, 1.0, 1.0, 1.0  …  0.6666666666666666, 0.6666666666666666, 0.3333333333333333, 0.3333333333333333, 0.0, 0.3333333333333333, 0.0, 0.0, 0.3333333333333333, 0.6666666666666666], 1.0, 0.7261666666666667, 0.36457522740458864)]\n",
       " Metrics[Metrics(20, [0.8009234015601246, 0.8873529418152709, 0.9648186335874159, 0.2241641575750264, 0.08972122691323191, 0.40502498541772275, 0.9061432442037632, 1.2895306531554689, 0.7946468671210342, 0.3985672597736556  …  0.3346030298442835, 0.5163997563927475, 0.43517438396749325, 0.598360550796541, 0.5362700352527868, 0.4471320623829449, 0.29561670268590506, 0.18851296824592492, 0.17522643152541226, 0.07857223386207775], 0.35531061663093255, 0.5184477645494938, 0.4845044270612191, [1.3258269952984914, 1.219366525258285, 1.1067738085368013, 0.8876478449926386, 0.6257782703432062, 0.5204509248590731, 0.6103587013183903, 0.7679474941003844, 0.5675737349456604, 0.5082509495209795  …  0.5453088799482404, 0.5575510867223642, 0.5540770509755611, 0.5983031348899548, 0.50022559167807, 0.42259328666553975, 0.3198506611541602, 0.3043017231422324, 0.38395027869333503, 0.5385430054163486], 0.47192182393714555, 0.5305997869038892, 0.24119505026883653, [1.0, 1.0, 1.0, 1.0, 1.0, 1.0, 0.3333333333333333, 0.0, 0.6666666666666666, 1.0  …  1.0, 1.0, 1.0, 1.0, 1.0, 1.0, 1.0, 1.0, 1.0, 1.0], 1.0, 0.8525, 0.2979733949063843)]\n",
       " Metrics[Metrics(40, [0.9826817575939837, 0.8853553187784176, 0.3822879886654962, 0.1560808317176755, 0.16401163158104606, 0.2641915580627298, 0.4821786668586909, 0.7562409207457594, 0.5304897251404828, 0.2335617480836244  …  0.46302073478462163, 0.44641521503457005, 0.5198248995974374, 0.8841581293917309, 0.8944940422060007, 0.6869037355788589, 0.47199979466366954, 0.3146926290239334, 0.22052593050442004, 0.2011946269035898], 0.31988125779252113, 0.4483744816193398, 0.3888888264729722, [0.9910648265607959, 1.0389612210939443, 0.9976972004017787, 0.6975832292555886, 0.40656021680950216, 0.3543519277702079, 0.4841426130471005, 0.6802004103354949, 0.5357937586885131, 0.4567283561463507  …  0.34892484591013456, 0.4717990778913134, 0.618724675393529, 0.5828250426543808, 0.4770344985964706, 0.39083347571382326, 0.2923228793059253, 0.3054108982896446, 0.45375090190774553, 0.6625324478592381], 0.4946079848132213, 0.5558350191174204, 0.23424766693404636, [1.0, 1.0, 1.0, 1.0, 1.0, 1.0, 1.0, 1.0, 1.0, 1.0  …  0.6666666666666666, 1.0, 1.0, 0.6666666666666666, 0.6666666666666666, 0.6666666666666666, 0.6666666666666666, 0.6666666666666666, 1.0, 1.0], 1.0, 0.9485, 0.17881512390001802)]\n",
       " Metrics[Metrics(60, [0.9958246928389437, 1.1406683287468808, 0.5892665012618263, 0.06937257988643586, 0.11686273681705214, 0.2663933938825168, 0.5322621212098003, 0.9316025189352882, 0.728746365036979, 0.4082893401458479  …  0.22786860029792666, 0.31749262144454576, 0.35389057590962486, 0.5051968531575757, 0.556030690676821, 0.4877666524221944, 0.30372102936096423, 0.2222280953223254, 0.28222115198656517, 0.24913840043694432], 0.30630601607276686, 0.4403101469791623, 0.38370929842878665, [1.15339760434503, 1.111068400675063, 1.0617894821482072, 0.7246278025729431, 0.4659868724356628, 0.4125774571657407, 0.5030501098617005, 0.6339205155508028, 0.5972643721683021, 0.4689687485398599  …  0.3842024564419135, 0.48550370981036023, 0.5900843703168447, 0.6445608536580213, 0.500422315137187, 0.4156164932470485, 0.3016388798926969, 0.2916869146188145, 0.40422049044227376, 0.6320377754649462], 0.5153348159848088, 0.5717853643157081, 0.2325183875067794, [1.0, 1.0, 1.0, 1.0, 1.0, 1.0, 1.0, 1.0, 1.0, 1.0  …  1.0, 1.0, 1.0, 1.0, 1.0, 1.0, 1.0, 1.0, 1.0, 1.0], 1.0, 0.9791666666666667, 0.10627248639759496)]\n",
       " Metrics[Metrics(100, [1.1447153311331781, 1.38577826954797, 0.8011100613741654, 0.2521263581826285, 0.3020487816972422, 0.508284816604461, 0.8670734818498514, 1.1608770052370112, 0.8718084104569586, 0.5296218649707812  …  0.2398186998545124, 0.25503741685515185, 0.22177804228613865, 0.41110055435395404, 0.47496251760836805, 0.40719857492095896, 0.24764360531773363, 0.13828193095173355, 0.0826234199512165, 0.26856854675486025], 0.2893155689372151, 0.4303647629868742, 0.38191564508486936, [0.9527704170384034, 0.9321001672664082, 1.0398646440457058, 0.6935998849951813, 0.44319915626874445, 0.3912492072948739, 0.5244511435147953, 0.6086134296913539, 0.5544278894887922, 0.4791755006959619  …  0.3928515891332105, 0.5199694696873517, 0.6603156868760311, 0.7450505076075534, 0.6302553655749117, 0.5068577227060873, 0.37451309930446913, 0.35529727887821777, 0.5185904054762793, 0.7753972206416857], 0.5329209748271038, 0.5871951348369144, 0.2322523924985191, [1.0, 1.0, 1.0, 1.0, 1.0, 1.0, 1.0, 1.0, 1.0, 1.0  …  1.0, 1.0, 1.0, 1.0, 1.0, 1.0, 1.0, 1.0, 1.0, 1.0], 1.0, 0.9911666666666668, 0.07514664299502112)]\n",
       " Metrics[Metrics(200, [0.888273273483637, 1.0797033517549515, 0.3440269499593048, 0.21420101076430767, 0.16162425690189322, 0.3253767298519863, 0.7050060288401291, 1.0723841440703699, 0.7927858236953814, 0.37303796598152517  …  0.14863863331263572, 0.13098694675828024, 0.01569618827238591, 0.16380423196922922, 0.33101947558854705, 0.3183054841536702, 0.19962116984435951, 0.10929821953369317, 0.07402847742163798, 0.21688151831203697], 0.3082727000481167, 0.4465248257137066, 0.38847206086051883, [1.1025016902484062, 1.1585146386588427, 1.050280287671641, 0.7264029154997294, 0.46463567765400915, 0.4408017551630872, 0.5331142954826315, 0.6640979088648434, 0.6326136904712192, 0.5171574662091373  …  0.4291626962129586, 0.5520631256132565, 0.6739989865135746, 0.774635718849873, 0.6359763126942447, 0.5135438852089059, 0.3752157713769756, 0.3581808492199844, 0.47687145842631096, 0.6813329693353127], 0.5508320940815306, 0.6018345158581575, 0.23071327806131858, [1.0, 1.0, 1.0, 1.0, 1.0, 1.0, 1.0, 1.0, 1.0, 1.0  …  1.0, 1.0, 1.0, 1.0, 1.0, 1.0, 1.0, 1.0, 1.0, 1.0], 1.0, 0.9908333333333332, 0.07584313842648356)]"
      ]
     },
     "execution_count": 55,
     "metadata": {},
     "output_type": "execute_result"
    }
   ],
   "source": [
    "metric_list = benchmark_lorenz63(model, data, path, Ne_array, [1.0])"
   ]
  },
  {
   "cell_type": "code",
   "execution_count": 23,
   "metadata": {},
   "outputs": [
    {
     "name": "stdout",
     "output_type": "stream",
     "text": [
      "(Ne, β) = (200, 1.0)\n",
      "  7.739944 seconds (62.75 M allocations: 5.935 GiB, 6.06% gc time)\n",
      "Ne = 200\n",
      "Ne 200& β 1.0 RMSE: 0.4189442707516625\n"
     ]
    },
    {
     "data": {
      "text/plain": [
       "1-element Array{Any,1}:\n",
       " Metrics[Metrics(200, [0.27418871478089074, 0.4011111920900346, 0.6224367042654201, 1.1940241372680338, 1.178706937442249, 0.629896584355798, 0.37352902606306937, 0.27598562967074297, 0.3415108073527272, 0.5385900049790774  …  0.22005926456584765, 0.11117371050261328, 0.0745833426310767, 0.06915409494524392, 0.23566185689849842, 0.4284533696688461, 0.7382482677445492, 1.2785156926466672, 0.9477650979445261, 0.8579855755647071], 0.2843509443072877, 0.4189442707516625, 0.3843942458358231, [0.2791191166770778, 0.3308824803118106, 0.5356751453956368, 0.7482658949655999, 0.6849666981780923, 0.5401293761758875, 0.3905840265207302, 0.30529026491290673, 0.3612676308031941, 0.5506587576884893  …  0.9550452598208562, 0.7275900415277436, 0.5097020874896808, 0.38068472189933705, 0.44668108906035564, 0.6711198461183089, 0.7934070557338772, 0.953289237580203, 1.0821830718436276, 1.1373384160933897], 0.529889526630428, 0.584733698922179, 0.23401428353181045, [1.0, 1.0, 1.0, 1.0, 0.6666666666666666, 1.0, 1.0, 1.0, 1.0, 1.0  …  1.0, 1.0, 1.0, 1.0, 1.0, 1.0, 1.0, 1.0, 1.0, 1.0], 1.0, 0.9928333333333332, 0.065876381401767)]"
      ]
     },
     "execution_count": 23,
     "metadata": {},
     "output_type": "execute_result"
    }
   ],
   "source": [
    "metric_list = benchmark_lorenz63(model, data, path, Ne_array, [1.0])"
   ]
  }
 ],
 "metadata": {
  "kernelspec": {
   "display_name": "JuliaPro_v1.5.3-1 1.5.3",
   "language": "julia",
   "name": "juliapro_v1.5.3-1-1.5"
  },
  "language_info": {
   "file_extension": ".jl",
   "mimetype": "application/julia",
   "name": "julia",
   "version": "1.5.3"
  }
 },
 "nbformat": 4,
 "nbformat_minor": 4
}
