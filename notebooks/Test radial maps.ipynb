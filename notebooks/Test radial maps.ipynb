{
 "cells": [
  {
   "cell_type": "code",
   "execution_count": 1,
   "metadata": {},
   "outputs": [
    {
     "name": "stderr",
     "output_type": "stream",
     "text": [
      "┌ Info: Precompiling AdaptiveTransportMap [bdf749b0-1400-4207-80d3-e689c0e3f03d]\n",
      "└ @ Base loading.jl:1278\n",
      "┌ Warning: Type annotations on keyword arguments not currently supported in recipes. Type information has been discarded\n",
      "└ @ RecipesBase ~/.julia/packages/RecipesBase/92zOw/src/RecipesBase.jl:116\n",
      "┌ Warning: Type annotations on keyword arguments not currently supported in recipes. Type information has been discarded\n",
      "└ @ RecipesBase ~/.julia/packages/RecipesBase/92zOw/src/RecipesBase.jl:116\n"
     ]
    }
   ],
   "source": [
    "using Revise\n",
    "using LinearAlgebra\n",
    "using AdaptiveTransportMap\n",
    "using Statistics\n",
    "using Distributions\n",
    "using Test\n",
    "using ForwardDiff\n",
    "using SpecialFunctions"
   ]
  },
  {
   "cell_type": "code",
   "execution_count": 2,
   "metadata": {},
   "outputs": [
    {
     "name": "stdout",
     "output_type": "stream",
     "text": [
      "search: \u001b[0m\u001b[1mi\u001b[22m\u001b[0m\u001b[1ms\u001b[22m\u001b[0m\u001b[1mp\u001b[22m\u001b[0m\u001b[1mo\u001b[22m\u001b[0m\u001b[1ms\u001b[22m\u001b[0m\u001b[1md\u001b[22m\u001b[0m\u001b[1me\u001b[22m\u001b[0m\u001b[1mf\u001b[22m \u001b[0m\u001b[1mi\u001b[22m\u001b[0m\u001b[1ms\u001b[22m\u001b[0m\u001b[1mp\u001b[22m\u001b[0m\u001b[1mo\u001b[22m\u001b[0m\u001b[1ms\u001b[22m\u001b[0m\u001b[1md\u001b[22m\u001b[0m\u001b[1me\u001b[22m\u001b[0m\u001b[1mf\u001b[22m!\n",
      "\n"
     ]
    },
    {
     "data": {
      "text/latex": [
       "\\begin{verbatim}\n",
       "isposdef(A) -> Bool\n",
       "\\end{verbatim}\n",
       "Test whether a matrix is positive definite (and Hermitian) by trying to perform a Cholesky factorization of \\texttt{A}. See also \\href{@ref}{\\texttt{isposdef!}}\n",
       "\n",
       "\\section{Examples}\n",
       "\\begin{verbatim}\n",
       "julia> A = [1 2; 2 50]\n",
       "2×2 Array{Int64,2}:\n",
       " 1   2\n",
       " 2  50\n",
       "\n",
       "julia> isposdef(A)\n",
       "true\n",
       "\\end{verbatim}\n"
      ],
      "text/markdown": [
       "```\n",
       "isposdef(A) -> Bool\n",
       "```\n",
       "\n",
       "Test whether a matrix is positive definite (and Hermitian) by trying to perform a Cholesky factorization of `A`. See also [`isposdef!`](@ref)\n",
       "\n",
       "# Examples\n",
       "\n",
       "```jldoctest\n",
       "julia> A = [1 2; 2 50]\n",
       "2×2 Array{Int64,2}:\n",
       " 1   2\n",
       " 2  50\n",
       "\n",
       "julia> isposdef(A)\n",
       "true\n",
       "```\n"
      ],
      "text/plain": [
       "\u001b[36m  isposdef(A) -> Bool\u001b[39m\n",
       "\n",
       "  Test whether a matrix is positive definite (and Hermitian) by trying to\n",
       "  perform a Cholesky factorization of \u001b[36mA\u001b[39m. See also \u001b[36misposdef!\u001b[39m\n",
       "\n",
       "\u001b[1m  Examples\u001b[22m\n",
       "\u001b[1m  ≡≡≡≡≡≡≡≡≡≡\u001b[22m\n",
       "\n",
       "\u001b[36m  julia> A = [1 2; 2 50]\u001b[39m\n",
       "\u001b[36m  2×2 Array{Int64,2}:\u001b[39m\n",
       "\u001b[36m   1   2\u001b[39m\n",
       "\u001b[36m   2  50\u001b[39m\n",
       "\u001b[36m  \u001b[39m\n",
       "\u001b[36m  julia> isposdef(A)\u001b[39m\n",
       "\u001b[36m  true\u001b[39m"
      ]
     },
     "execution_count": 2,
     "metadata": {},
     "output_type": "execute_result"
    }
   ],
   "source": [
    "?isposdef"
   ]
  },
  {
   "cell_type": "code",
   "execution_count": 4,
   "metadata": {},
   "outputs": [
    {
     "data": {
      "text/plain": [
       "20×20 Array{Float64,2}:\n",
       " 105.679       8.73631    -6.73281   …   -8.41532    13.0816       4.19571\n",
       "   8.73631    89.7636     -9.57597       -0.665961   -8.11058      6.88277\n",
       "  -6.73281    -9.57597    94.0622        -2.84336     6.86944     -5.60848\n",
       "   1.92407     0.711452   -5.87176        0.842033    8.18098      2.3827\n",
       "   2.89166    11.3947     -7.13341       -5.88191     3.448        9.34898\n",
       "  -7.65365    -2.92257     5.0551    …   23.3747     -1.89557     19.4441\n",
       "  -0.794266    5.55923   -12.7118        13.0472      4.10618     14.3769\n",
       "  -1.34444    -6.35108     6.30012      -25.0826     20.8191     -14.0837\n",
       " -12.1415    -15.1242     14.0347        -1.19628   -12.9653       8.80836\n",
       "  -4.84596    -1.23181   -15.8862         3.21458     3.691       10.3068\n",
       "   3.676      14.4024      0.680349  …   12.243      -4.31091     -8.88414\n",
       "  12.5466     -4.39046     3.37474      -11.5061     -3.37708    -11.6271\n",
       "  -5.66285    -1.29677    10.1916         3.20392    16.234        3.42874\n",
       "   7.93491   -19.4954      5.40484        3.23089   -14.4016      -3.45341\n",
       "  -1.10902   -17.2586     14.4232        12.7768    -15.7835      -1.00387\n",
       " -11.3418     -5.02441   -12.354     …    6.62966    -1.7882       0.253242\n",
       "  16.0123     15.8071     -5.6576        -5.86094    -0.0918845    4.50455\n",
       "  -8.41532    -0.665961   -2.84336       90.6546     -1.44404      5.05815\n",
       "  13.0816     -8.11058     6.86944       -1.44404    90.2919      -8.35987\n",
       "   4.19571     6.88277    -5.60848        5.05815    -8.35987    111.273"
      ]
     },
     "execution_count": 4,
     "metadata": {},
     "output_type": "execute_result"
    }
   ],
   "source": [
    "a = randn(20,100)\n",
    "A = a *a'"
   ]
  },
  {
   "cell_type": "code",
   "execution_count": 10,
   "metadata": {},
   "outputs": [
    {
     "data": {
      "text/plain": [
       "true"
      ]
     },
     "execution_count": 10,
     "metadata": {},
     "output_type": "execute_result"
    }
   ],
   "source": [
    "issuccess(cholesky(Hermitian(A); check = false))"
   ]
  },
  {
   "cell_type": "code",
   "execution_count": 14,
   "metadata": {},
   "outputs": [
    {
     "data": {
      "text/plain": [
       "(:factors, :uplo, :info)"
      ]
     },
     "execution_count": 14,
     "metadata": {},
     "output_type": "execute_result"
    }
   ],
   "source": [
    "fieldnames(typeof(cholesky(Hermitian(A))))"
   ]
  },
  {
   "cell_type": "code",
   "execution_count": null,
   "metadata": {},
   "outputs": [],
   "source": []
  }
 ],
 "metadata": {
  "kernelspec": {
   "display_name": "Julia 1.5.3",
   "language": "julia",
   "name": "julia-1.5"
  },
  "language_info": {
   "file_extension": ".jl",
   "mimetype": "application/julia",
   "name": "julia",
   "version": "1.5.3"
  }
 },
 "nbformat": 4,
 "nbformat_minor": 4
}
