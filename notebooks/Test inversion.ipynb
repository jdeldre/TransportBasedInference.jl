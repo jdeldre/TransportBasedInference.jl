{
 "cells": [
  {
   "cell_type": "code",
   "execution_count": 1,
   "metadata": {},
   "outputs": [
    {
     "name": "stderr",
     "output_type": "stream",
     "text": [
      "\u001b[32m\u001b[1m Activating\u001b[22m\u001b[39m environment at `/media/mat/HDD/AdaptiveTransportMap/Project.toml`\n"
     ]
    }
   ],
   "source": [
    "using Pkg\n",
    "Pkg.activate(\"/media/mat/HDD/AdaptiveTransportMap/\")"
   ]
  },
  {
   "cell_type": "code",
   "execution_count": 2,
   "metadata": {},
   "outputs": [
    {
     "name": "stderr",
     "output_type": "stream",
     "text": [
      "┌ Info: Precompiling AdaptiveTransportMap [bdf749b0-1400-4207-80d3-e689c0e3f03d]\n",
      "└ @ Base loading.jl:1278\n",
      "┌ Warning: Type annotations on keyword arguments not currently supported in recipes. Type information has been discarded\n",
      "└ @ RecipesBase ~/.julia/packages/RecipesBase/92zOw/src/RecipesBase.jl:116\n",
      "┌ Warning: Type annotations on keyword arguments not currently supported in recipes. Type information has been discarded\n",
      "└ @ RecipesBase ~/.julia/packages/RecipesBase/92zOw/src/RecipesBase.jl:116\n"
     ]
    }
   ],
   "source": [
    "using Revise\n",
    "using AdaptiveTransportMap\n",
    "using LinearAlgebra\n",
    "using Test\n",
    "using ForwardDiff\n",
    "using NLsolve\n",
    "using Distributions\n",
    "using BenchmarkTools\n",
    "using LoopVectorization"
   ]
  },
  {
   "cell_type": "code",
   "execution_count": 3,
   "metadata": {},
   "outputs": [],
   "source": [
    "using Plots\n",
    "default(tickfont = font(\"CMU Serif\", 9), \n",
    "        titlefont = font(\"CMU Serif\", 14), \n",
    "        guidefont = font(\"CMU Serif\", 12),\n",
    "        legendfont = font(\"CMU Serif\", 10),\n",
    "        grid = false)\n",
    "# clibrary(:colorbrewer)\n",
    "pyplot()\n",
    "\n",
    "using LaTeXStrings\n",
    "PyPlot.rc(\"text\", usetex = \"true\")\n",
    "PyPlot.rc(\"font\", family = \"CMU Serif\")\n",
    "# gr()\n",
    "using ColorSchemes"
   ]
  },
  {
   "cell_type": "code",
   "execution_count": 4,
   "metadata": {},
   "outputs": [],
   "source": [
    "Nx = 3\n",
    "Ne = 500\n",
    "\n",
    "X0 = randn(Nx, Ne) .^2 .* (1.0 .+ 0.3*randn(Nx, Ne))\n",
    "X = deepcopy(X0)\n",
    "X .+= 0.1*randn(Nx, Ne)\n",
    "B = MultiBasis(CstProHermite(6), Nx)\n",
    "idx = [0 0 0 ;0  0 1; 0 1 0; 1 0 0;1 1 0; 10 1 1; 1 5 1; 4 6 3; 1 2 0; 4 1 0]\n",
    "Nψ = size(idx, 1)\n",
    "coeff = randn(Nψ)\n",
    "\n",
    "f = ExpandedFunction(B, idx, coeff)\n",
    "fp = ParametricFunction(f);\n",
    "R = IntegratedFunction(fp)\n",
    "S = Storage(fp, X);"
   ]
  },
  {
   "cell_type": "code",
   "execution_count": 15,
   "metadata": {},
   "outputs": [
    {
     "name": "stderr",
     "output_type": "stream",
     "text": [
      "\u001b[32mProgress: 100%|█████████████████████████████████████████| Time: 0:00:12\u001b[39m\n"
     ]
    }
   ],
   "source": [
    "Nx = 100\n",
    "m = 20\n",
    "Ne = 500\n",
    "Xprior = randn(Nx, Ne).*randn(Nx, Ne)\n",
    "Xpert = deepcopy(Xprior .+ 0.3*randn(Nx, Ne))\n",
    "\n",
    "M = HermiteMap(m, Xprior; diag = true)\n",
    "optimize(M, Xprior, 5; withconstant = false);"
   ]
  },
  {
   "cell_type": "code",
   "execution_count": 16,
   "metadata": {},
   "outputs": [
    {
     "data": {
      "text/plain": [
       "\u001b[32m\u001b[1mTest Passed\u001b[22m\u001b[39m"
      ]
     },
     "execution_count": 16,
     "metadata": {},
     "output_type": "execute_result"
    },
    {
     "name": "stderr",
     "output_type": "stream",
     "text": [
      "┌ Warning: /media/mat/HDD/AdaptiveTransportMap/src/mapcomponent is not an existing directory, Revise is not watching\n",
      "└ @ Revise /home/mat/.julia/packages/Revise/VxkZO/src/packagedef.jl:565\n"
     ]
    }
   ],
   "source": [
    "Xpost = deepcopy(Xpert)\n",
    "Xhybrid = deepcopy(Xpert)\n",
    "\n",
    "F = evaluate(M, Xprior)\n",
    "inverse!(Xpost, copy(F), M)\n",
    "\n",
    "hybridinverse!(Xhybrid, copy(F), M)\n",
    "\n",
    "@test norm(Xprior - Xpost)/norm(Xpost)<1e-6\n",
    "\n",
    "@test norm(Xprior - Xhybrid)/norm(Xprior)<1e-6"
   ]
  },
  {
   "cell_type": "code",
   "execution_count": 14,
   "metadata": {},
   "outputs": [
    {
     "data": {
      "text/plain": [
       "100×500 Array{Float64,2}:\n",
       "  0.822935   -0.263992     0.117899   …   0.786344     0.111981    0.526208\n",
       " -0.155294   -0.337694    -0.969846      -0.850076    -0.439233   -0.513792\n",
       "  0.97452     0.130456    -0.428311      -0.554197    -0.562652    1.08353\n",
       " -0.29877    -1.27727     -0.446924       1.45386      0.970215   -0.356623\n",
       "  0.288212    0.0166396    0.0805585      1.78045      1.34838    -0.455331\n",
       "  1.05496    -1.99025      0.369452   …  -1.5383      -1.20615     0.854571\n",
       "  0.228983   -1.88854     -0.0937185     -2.31672     -4.51455     0.435131\n",
       "  0.0318051   0.00536244  -0.880724       0.745397     0.608634   -0.181827\n",
       "  0.0807029   1.8784      -0.406168       0.0967476   -0.076947   -0.203739\n",
       "  0.805181   -0.443086     0.821051      -2.05628     -0.497363    0.276948\n",
       "  0.341332    0.269184     0.0287198  …   0.527084     0.232049   -0.0834802\n",
       " -0.302737   -0.126461    -0.268721      -1.8551       1.03632    -0.693643\n",
       " -0.177393    0.624568     0.0188061      0.915033    -0.0219493   0.491163\n",
       "  ⋮                                   ⋱                           \n",
       " -1.32391     1.40434      0.367765      -0.126974     0.0583529   0.430364\n",
       " -0.459064    0.569004    -0.372954       0.500462    -0.224286   -0.544837\n",
       " -0.24307     0.070529    -0.263878   …  -3.06092     -0.472136   -1.58952\n",
       " -1.14736     0.388035     0.601311       0.970789    -0.457662   -1.91191\n",
       "  0.0638881  -0.998279    -0.631216       2.07963      0.0202137   1.5147\n",
       " -1.15126    -0.0188806    0.629706      -0.0232632   -0.967892    0.249216\n",
       " -0.514456    0.89645      0.487167       0.00205537  -1.07181     0.321579\n",
       "  1.33532     0.297734     0.460902   …   0.817795    -0.249125    0.0421104\n",
       " -0.564687   -0.566944    -0.258594       0.0857023    0.127853    0.0904903\n",
       " -0.077606   -0.780672    -0.561291       0.644334     0.146945    0.118182\n",
       " -1.78918    -0.0975235    0.0584118      0.825921    -1.05007     0.301339\n",
       "  3.45402    -0.853884    -0.0651896      0.144304    -0.145164    0.436588"
      ]
     },
     "execution_count": 14,
     "metadata": {},
     "output_type": "execute_result"
    }
   ],
   "source": [
    "evaluate(M, Xpost)"
   ]
  },
  {
   "cell_type": "code",
   "execution_count": 70,
   "metadata": {},
   "outputs": [
    {
     "data": {
      "text/plain": [
       "500-element Array{Float64,1}:\n",
       "  0.4783942213508641\n",
       " -0.6703872484237725\n",
       "  2.862064375283519\n",
       "  0.1625380213240352\n",
       "  1.1960179141289293\n",
       "  0.07991124790283566\n",
       " -0.009172069591303206\n",
       "  1.3000143219523215\n",
       " -0.9424785886643875\n",
       " -0.15880011785905593\n",
       " -0.1714369028134791\n",
       "  0.8597110852635682\n",
       "  0.10568485673404127\n",
       "  ⋮\n",
       "  0.56351761836208\n",
       "  0.07721998315104006\n",
       " -1.3240447068550494\n",
       "  1.282902574954873\n",
       "  2.2887766114139203\n",
       " -0.5106274209192392\n",
       "  1.5195192544140417\n",
       "  1.6792790449558153\n",
       "  0.20608851274522083\n",
       " -0.8979951865533644\n",
       "  0.018659300793244134\n",
       " -2.6417151603210414"
      ]
     },
     "execution_count": 70,
     "metadata": {},
     "output_type": "execute_result"
    }
   ],
   "source": [
    "evaluate(M, Xpost)[36,:]"
   ]
  },
  {
   "cell_type": "code",
   "execution_count": 73,
   "metadata": {},
   "outputs": [
    {
     "data": {
      "text/plain": [
       "(7.078782005009998e-13, 323)"
      ]
     },
     "execution_count": 73,
     "metadata": {},
     "output_type": "execute_result"
    }
   ],
   "source": [
    "findmax(evaluate(M, Xprior)[36,:]-evaluate(M, Xpost)[36,:])"
   ]
  },
  {
   "cell_type": "code",
   "execution_count": 61,
   "metadata": {},
   "outputs": [
    {
     "data": {
      "text/plain": [
       "0.4387525983724838"
      ]
     },
     "execution_count": 61,
     "metadata": {},
     "output_type": "execute_result"
    }
   ],
   "source": [
    "Xprior[36,21]"
   ]
  },
  {
   "cell_type": "code",
   "execution_count": 62,
   "metadata": {},
   "outputs": [
    {
     "data": {
      "text/plain": [
       "1.2652219675138383"
      ]
     },
     "execution_count": 62,
     "metadata": {},
     "output_type": "execute_result"
    }
   ],
   "source": [
    "Xpost[36,21]"
   ]
  },
  {
   "cell_type": "code",
   "execution_count": 58,
   "metadata": {},
   "outputs": [
    {
     "data": {
      "text/plain": [
       "(0.7588015123810957, CartesianIndex(36, 21))"
      ]
     },
     "execution_count": 58,
     "metadata": {},
     "output_type": "execute_result"
    }
   ],
   "source": [
    "findmax(abs.(evaluate(M, Xpost)-evaluate(M, Xprior)))"
   ]
  },
  {
   "cell_type": "code",
   "execution_count": 36,
   "metadata": {},
   "outputs": [
    {
     "name": "stderr",
     "output_type": "stream",
     "text": [
      "\u001b[32mProgress: 100%|█████████████████████████████████████████| Time: 0:00:06\u001b[39m\n"
     ]
    },
    {
     "name": "stdout",
     "output_type": "stream",
     "text": [
      "\u001b[37mTest inversion of the Hermite Map I: \u001b[39m\u001b[91m\u001b[1mTest Failed\u001b[22m\u001b[39m at \u001b[39m\u001b[1mIn[36]:15\u001b[22m\n",
      "  Expression: norm(Xprior - Xpost) / norm(Xpost) < 1.0e-6\n",
      "   Evaluated: 0.008424282633755964 < 1.0e-6\n",
      "Stacktrace:\n",
      " [1] top-level scope at \u001b[1mIn[36]:15\u001b[22m\n",
      " [2] top-level scope at \u001b[1m/buildworker/worker/package_linux64/build/usr/share/julia/stdlib/v1.5/Test/src/Test.jl:1115\u001b[22m\n",
      " [3] top-level scope at \u001b[1mIn[36]:2\u001b[22m\n",
      "\u001b[37m\u001b[1mTest Summary:                       | \u001b[22m\u001b[39m\u001b[91m\u001b[1mFail  \u001b[22m\u001b[39m\u001b[36m\u001b[1mTotal\u001b[22m\u001b[39m\n",
      "Test inversion of the Hermite Map I | \u001b[91m   1  \u001b[39m\u001b[36m    1\u001b[39m\n"
     ]
    },
    {
     "ename": "LoadError",
     "evalue": "\u001b[91mSome tests did not pass: 0 passed, 1 failed, 0 errored, 0 broken.\u001b[39m",
     "output_type": "error",
     "traceback": [
      "\u001b[91mSome tests did not pass: 0 passed, 1 failed, 0 errored, 0 broken.\u001b[39m",
      "",
      "Stacktrace:",
      " [1] finish(::Test.DefaultTestSet) at /buildworker/worker/package_linux64/build/usr/share/julia/stdlib/v1.5/Test/src/Test.jl:879",
      " [2] top-level scope at /buildworker/worker/package_linux64/build/usr/share/julia/stdlib/v1.5/Test/src/Test.jl:1125",
      " [3] top-level scope at In[36]:2",
      " [4] include_string(::Function, ::Module, ::String, ::String) at ./loading.jl:1091"
     ]
    }
   ],
   "source": [
    "@testset \"Test inversion of the Hermite Map I\" begin\n",
    "    using Test\n",
    "    Nx = 100\n",
    "    m = 20\n",
    "    Ne = 500\n",
    "    Xprior = randn(Nx, Ne).*randn(Nx, Ne)\n",
    "    Xpost = deepcopy(Xprior) .+ 0.3*randn(Nx, Ne)\n",
    "\n",
    "    M = HermiteMap(m, Xprior; diag = true)\n",
    "    optimize(M, Xprior, 5; withconstant = false)\n",
    "\n",
    "    F = evaluate(M, Xprior)\n",
    "    inverse!(Xpost, F, M)\n",
    "\n",
    "    @test norm(Xprior - Xpost)/norm(Xpost)<1e-6\n",
    "end\n",
    "\n",
    "\n",
    "@testset \"Test inversion of the Hermite Map II\" begin\n",
    "\n",
    "    Nx = 100\n",
    "    Ny = 50\n",
    "    m = 20\n",
    "    Ne = 500\n",
    "    Xprior = randn(Nx, Ne).*randn(Nx, Ne)\n",
    "    Xpost = deepcopy(Xprior) .+ 0.2*randn(Nx, Ne)\n",
    "\n",
    "    M = HermiteMap(m, Xprior; diag = true)\n",
    "    Ystar = deepcopy(Xpost[1:Ny,:])# + 0.05*randn(Ny,Ne);\n",
    "\n",
    "    M = HermiteMap(m, Xprior)\n",
    "    optimize(M, Xprior, 5; withconstant = false, start = Ny+1)\n",
    "\n",
    "    F = evaluate(M, Xpost; start = Ny+1)\n",
    "    inverse!(Xprior, F, M, Ystar; start = Ny+1, P = serial)\n",
    "\n",
    "    @test norm(evaluate(M, Xprior; start = Ny+1)-evaluate(M, Xpost; start = Ny+1))/norm(evaluate(M, Xpost; start = Ny+1))<1e-6\n",
    "\n",
    "    @test norm(Xprior[Ny+1:end,:] - Xpost[Ny+1:end,:])/norm(Xpost[Ny+1:end,:])<1e-6\n",
    "end\n"
   ]
  },
  {
   "cell_type": "code",
   "execution_count": 10,
   "metadata": {},
   "outputs": [
    {
     "name": "stderr",
     "output_type": "stream",
     "text": [
      "\u001b[32mProgress: 100%|█████████████████████████████████████████| Time: 0:00:09\u001b[39m\n"
     ]
    },
    {
     "name": "stdout",
     "output_type": "stream",
     "text": [
      "\u001b[37mTest inversion of the Hermite Map I: \u001b[39m\u001b[91m\u001b[1mError During Test\u001b[22m\u001b[39m at \u001b[39m\u001b[1mIn[10]:1\u001b[22m\n",
      "  Got exception outside of a @test\n",
      "  UndefVarError: fa not defined\n",
      "  Stacktrace:\n",
      "   [1] hybridinverse!(::SubArray{Float64,2,Array{Float64,2},Tuple{UnitRange{Int64},Base.Slice{Base.OneTo{Int64}}},false}, ::SubArray{Float64,1,Array{Float64,2},Tuple{Int64,Base.Slice{Base.OneTo{Int64}}},true}, ::IntegratedFunction, ::Storage; niter::Int64, ϵx::Float64, ϵf::Float64, P::Serial) at /media/mat/HDD/AdaptiveTransportMap/src/mapcomponent/hybridinverse.jl:138\n",
      "   [2] #hybridinverse!#150 at /media/mat/HDD/AdaptiveTransportMap/src/mapcomponent/hybridinverse.jl:220 [inlined]\n",
      "   [3] inverse!(::Array{Float64,2}, ::Array{Float64,2}, ::HermiteMap; apply_rescaling::Bool, P::Serial) at /media/mat/HDD/AdaptiveTransportMap/src/mapcomponent/hermitemap.jl:509\n",
      "   [4] inverse!(::Array{Float64,2}, ::Array{Float64,2}, ::HermiteMap) at /media/mat/HDD/AdaptiveTransportMap/src/mapcomponent/hermitemap.jl:494\n",
      "   [5] top-level scope at In[10]:13\n",
      "   [6] top-level scope at /buildworker/worker/package_linux64/build/usr/share/julia/stdlib/v1.5/Test/src/Test.jl:1115\n",
      "   [7] top-level scope at In[10]:2\n",
      "   [8] include_string(::Function, ::Module, ::String, ::String) at ./loading.jl:1091\n",
      "   [9] softscope_include_string(::Module, ::String, ::String) at /home/mat/.julia/packages/SoftGlobalScope/u4UzH/src/SoftGlobalScope.jl:65\n",
      "   [10] execute_request(::ZMQ.Socket, ::IJulia.Msg) at /home/mat/.julia/packages/IJulia/e8kqU/src/execute_request.jl:67\n",
      "   [11] #invokelatest#1 at ./essentials.jl:710 [inlined]\n",
      "   [12] invokelatest at ./essentials.jl:709 [inlined]\n",
      "   [13] eventloop(::ZMQ.Socket) at /home/mat/.julia/packages/IJulia/e8kqU/src/eventloop.jl:8\n",
      "   [14] (::IJulia.var\"#15#18\")() at ./task.jl:356\n",
      "  \n",
      "\u001b[37m\u001b[1mTest Summary:                       | \u001b[22m\u001b[39m\u001b[91m\u001b[1mError  \u001b[22m\u001b[39m\u001b[36m\u001b[1mTotal\u001b[22m\u001b[39m\n",
      "Test inversion of the Hermite Map I | \u001b[91m    1  \u001b[39m\u001b[36m    1\u001b[39m\n"
     ]
    },
    {
     "ename": "LoadError",
     "evalue": "\u001b[91mSome tests did not pass: 0 passed, 0 failed, 1 errored, 0 broken.\u001b[39m",
     "output_type": "error",
     "traceback": [
      "\u001b[91mSome tests did not pass: 0 passed, 0 failed, 1 errored, 0 broken.\u001b[39m",
      "",
      "Stacktrace:",
      " [1] finish(::Test.DefaultTestSet) at /buildworker/worker/package_linux64/build/usr/share/julia/stdlib/v1.5/Test/src/Test.jl:879",
      " [2] top-level scope at /buildworker/worker/package_linux64/build/usr/share/julia/stdlib/v1.5/Test/src/Test.jl:1125",
      " [3] top-level scope at In[10]:2",
      " [4] include_string(::Function, ::Module, ::String, ::String) at ./loading.jl:1091"
     ]
    }
   ],
   "source": [
    "@testset \"Test inversion of the Hermite Map I\" begin\n",
    "    using Test\n",
    "    Nx = 100\n",
    "    m = 20\n",
    "    Ne = 500\n",
    "    Xprior = randn(Nx, Ne).*randn(Nx, Ne)\n",
    "    Xpost = deepcopy(Xprior) .+ 0.3*randn(Nx, Ne)\n",
    "\n",
    "    M = HermiteMap(m, Xprior; diag = true)\n",
    "    optimize(M, Xprior, 5; withconstant = false)\n",
    "\n",
    "    F = evaluate(M, Xprior)\n",
    "    inverse!(Xpost, F, M)\n",
    "\n",
    "    @test norm(Xprior - Xpost)/norm(Xpost)<1e-6\n",
    "end\n",
    "\n",
    "\n",
    "@testset \"Test inversion of the Hermite Map II\" begin\n",
    "\n",
    "    Nx = 100\n",
    "    Ny = 50\n",
    "    m = 20\n",
    "    Ne = 500\n",
    "    Xprior = randn(Nx, Ne).*randn(Nx, Ne)\n",
    "    Xpost = deepcopy(Xprior) .+ 0.2*randn(Nx, Ne)\n",
    "\n",
    "    M = HermiteMap(m, Xprior; diag = true)\n",
    "    Ystar = deepcopy(Xpost[1:Ny,:])# + 0.05*randn(Ny,Ne);\n",
    "\n",
    "    M = HermiteMap(m, Xprior)\n",
    "    optimize(M, Xprior, 5; withconstant = false, start = Ny+1)\n",
    "\n",
    "    F = evaluate(M, Xpost; start = Ny+1)\n",
    "    inverse!(Xprior, F, M, Ystar; start = Ny+1, P = serial)\n",
    "\n",
    "    @test norm(evaluate(M, Xprior; start = Ny+1)-evaluate(M, Xpost; start = Ny+1))/norm(evaluate(M, Xpost; start = Ny+1))<1e-6\n",
    "\n",
    "    @test norm(Xprior[Ny+1:end,:] - Xpost[Ny+1:end,:])/norm(Xpost[Ny+1:end,:])<1e-6\n",
    "end"
   ]
  },
  {
   "cell_type": "code",
   "execution_count": 221,
   "metadata": {},
   "outputs": [
    {
     "name": "stdout",
     "output_type": "stream",
     "text": [
      "  368.364 μs (458 allocations: 2.55 MiB)\n"
     ]
    },
    {
     "data": {
      "text/plain": [
       "500-element Array{Float64,1}:\n",
       " -0.2602884952716751\n",
       " -0.37789969547884916\n",
       "  1.623157253785775\n",
       " -0.7318148846966601\n",
       " -0.791493610480654\n",
       "  6.902987721701352\n",
       " -0.3796503621444539\n",
       "  2.0028609675126754\n",
       "  4.58751147385926\n",
       "  0.62905006229955\n",
       "  7.87108352894949\n",
       " -0.34306968988612446\n",
       " -0.5565017170334313\n",
       "  ⋮\n",
       " -0.28812843665418963\n",
       "  0.8414144987829988\n",
       " -0.4206455761872232\n",
       "  0.24067055349914823\n",
       " -1.8349912058473867\n",
       " -0.7091574503344977\n",
       " -0.833897772305442\n",
       " -1.3894055819226456\n",
       "  0.14307735024960744\n",
       " -0.8596756722876994\n",
       " -1.1417363718596565\n",
       "  1.2908678385351262"
      ]
     },
     "execution_count": 221,
     "metadata": {},
     "output_type": "execute_result"
    }
   ],
   "source": [
    "@btime begin\n",
    "    Nx = 3\n",
    "    Ne = 500\n",
    "\n",
    "    X0 = randn(Nx, Ne) .^2 .* (1.0 .+ 0.3*randn(Nx, Ne))\n",
    "    X = deepcopy(X0)\n",
    "    X .+= 0.1*randn(Nx, Ne)\n",
    "    B = MultiBasis(CstProHermite(6), Nx)\n",
    "    idx = [0 0 0 ;0  0 1; 0 1 0; 1 0 0;1 1 0; 10 1 1; 1 5 1; 4 6 3; 1 2 0; 4 1 0]\n",
    "    Nψ = size(idx, 1)\n",
    "    coeff = randn(Nψ)\n",
    "\n",
    "    f = ExpandedFunction(B, idx, coeff)\n",
    "    fp = ParametricFunction(f);\n",
    "    R = IntegratedFunction(fp)\n",
    "    S = Storage(fp, X)\n",
    "\n",
    "    F0 = evaluate(R, X0)\n",
    "    F = copy(F0)\n",
    "end"
   ]
  },
  {
   "cell_type": "code",
   "execution_count": 220,
   "metadata": {},
   "outputs": [
    {
     "name": "stdout",
     "output_type": "stream",
     "text": [
      "  1.047 ms (1131 allocations: 3.84 MiB)\n"
     ]
    },
    {
     "data": {
      "text/plain": [
       "500-element view(::Array{Float64,2}, 3, :) with eltype Float64:\n",
       " -0.04272001917072685\n",
       "  0.17448041150550256\n",
       " -0.019978575260491013\n",
       "  0.27953011081056783\n",
       "  2.231941031813527\n",
       "  0.14322845145751417\n",
       "  0.30399748222054096\n",
       " -0.04076316321523114\n",
       "  0.293242804433407\n",
       " -0.017398517287347637\n",
       "  3.311480981018346\n",
       "  0.4470945712820416\n",
       "  0.9133695005863243\n",
       "  ⋮\n",
       "  2.400079124914213\n",
       "  1.003272983423846\n",
       "  0.018477836918372424\n",
       "  3.603842806443272\n",
       "  0.6670533306813241\n",
       "  0.36555850370430887\n",
       "  0.23278395945582211\n",
       "  1.5238877163185187\n",
       "  0.5425981015053213\n",
       "  0.954634776602408\n",
       "  0.13089525636927327\n",
       "  2.634270404169508"
      ]
     },
     "execution_count": 220,
     "metadata": {},
     "output_type": "execute_result"
    }
   ],
   "source": [
    "@btime begin\n",
    "    Nx = 3\n",
    "    Ne = 500\n",
    "\n",
    "    X0 = randn(Nx, Ne) .^2 .* (1.0 .+ 0.3*randn(Nx, Ne))\n",
    "    X = deepcopy(X0)\n",
    "    X .+= 0.1*randn(Nx, Ne)\n",
    "    B = MultiBasis(CstProHermite(6), Nx)\n",
    "    idx = [0 0 0 ;0  0 1; 0 1 0; 1 0 0;1 1 0; 10 1 1; 1 5 1; 4 6 3; 1 2 0; 4 1 0]\n",
    "    Nψ = size(idx, 1)\n",
    "    coeff = randn(Nψ)\n",
    "\n",
    "    f = ExpandedFunction(B, idx, coeff)\n",
    "    fp = ParametricFunction(f);\n",
    "    R = IntegratedFunction(fp)\n",
    "    S = Storage(fp, X)\n",
    "\n",
    "    F0 = evaluate(R, X0)\n",
    "    F = copy(F0)\n",
    "    inverse!(X, F, R, S)\n",
    "end"
   ]
  },
  {
   "cell_type": "code",
   "execution_count": 180,
   "metadata": {},
   "outputs": [
    {
     "name": "stdout",
     "output_type": "stream",
     "text": [
      "  0.001185 seconds (673 allocations: 1.291 MiB)\n"
     ]
    },
    {
     "data": {
      "text/plain": [
       "500-element view(::Array{Float64,2}, 3, :) with eltype Float64:\n",
       " 0.25140415843276703\n",
       " 1.2541689648760388\n",
       " 2.978335713815538\n",
       " 0.48800507516111774\n",
       " 2.518369415777971\n",
       " 0.08511767436719533\n",
       " 0.2646318449158077\n",
       " 0.1324287101401709\n",
       " 0.12997433460050326\n",
       " 1.6382197947874977\n",
       " 1.2825790972437234\n",
       " 0.5108899508313886\n",
       " 0.07131692306673115\n",
       " ⋮\n",
       " 0.12414837461992498\n",
       " 0.21043498188406395\n",
       " 1.6660893993389956\n",
       " 0.43278288639453416\n",
       " 1.1131892377141734\n",
       " 2.3244983547673304\n",
       " 2.9657339676407917\n",
       " 0.7994896145542376\n",
       " 1.0116555864142796\n",
       " 4.920678082350647\n",
       " 0.3147014683475653\n",
       " 0.6154219792894643"
      ]
     },
     "execution_count": 180,
     "metadata": {},
     "output_type": "execute_result"
    }
   ],
   "source": [
    "F0 = evaluate(R, X0)\n",
    "F = copy(F0)\n",
    "@btime inverse!(X, F, R, S)"
   ]
  },
  {
   "cell_type": "code",
   "execution_count": 108,
   "metadata": {},
   "outputs": [
    {
     "data": {
      "text/plain": [
       "500-element Array{Float64,1}:\n",
       " -6.661338147750939e-16\n",
       "  2.220446049250313e-16\n",
       "  0.0\n",
       "  0.0\n",
       "  0.0\n",
       "  0.0\n",
       "  0.0\n",
       " -2.220446049250313e-16\n",
       "  2.220446049250313e-16\n",
       "  0.0\n",
       " -2.220446049250313e-16\n",
       "  0.0\n",
       "  6.661338147750939e-16\n",
       "  ⋮\n",
       " -4.440892098500626e-16\n",
       " -2.220446049250313e-16\n",
       "  4.440892098500626e-16\n",
       "  0.0\n",
       "  4.440892098500626e-16\n",
       "  2.220446049250313e-16\n",
       "  2.220446049250313e-16\n",
       "  4.440892098500626e-16\n",
       "  0.0\n",
       " -8.881784197001252e-16\n",
       " -2.220446049250313e-16\n",
       " -6.661338147750939e-16"
      ]
     },
     "execution_count": 108,
     "metadata": {},
     "output_type": "execute_result"
    }
   ],
   "source": [
    "F = evaluate(R, X)-F0"
   ]
  },
  {
   "cell_type": "code",
   "execution_count": 96,
   "metadata": {},
   "outputs": [],
   "source": [
    "xrange = -3.0:0.01:3.0\n",
    "\n",
    "Xrange = repeat(randn(Nx), 1, length(xrange))\n",
    "Xrange[end, :] .= collect(xrange);\n",
    "\n",
    "Frange = evaluate(R, Xrange);"
   ]
  },
  {
   "cell_type": "code",
   "execution_count": 95,
   "metadata": {},
   "outputs": [
    {
     "data": {
      "image/png": "[encoded data removed]"
     },
     "execution_count": 95,
     "metadata": {},
     "output_type": "execute_result"
    }
   ],
   "source": [
    "plot(xrange, Frange) "
   ]
  },
  {
   "cell_type": "code",
   "execution_count": 79,
   "metadata": {},
   "outputs": [
    {
     "data": {
      "text/plain": [
       "500-element Array{Float64,1}:\n",
       "  4.440892098500626e-16\n",
       "  2.0416966732828e-5\n",
       "  5.507756629974381e-5\n",
       "  0.0003553838927192743\n",
       " -2.22939015670498e-6\n",
       "  0.001112745410920768\n",
       " -0.00013209668325542268\n",
       "  0.00180256120876221\n",
       "  7.149428470931696e-5\n",
       "  0.0019392624119554114\n",
       "  4.730865202251522e-5\n",
       "  0.0014024719731007274\n",
       " -0.00018059255608315894\n",
       "  ⋮\n",
       "  1.665248307691769e-6\n",
       " -2.142023073137267e-6\n",
       "  2.2190510269304298e-6\n",
       "  0.0009421867783019344\n",
       " -3.5736089135429694e-5\n",
       "  4.618112118492945e-6\n",
       "  2.9039895784954695e-5\n",
       "  0.0001826890869240927\n",
       "  0.0005444951828030842\n",
       "  0.0015304040382493334\n",
       "  0.00015649811774665068\n",
       "  8.4668072841243e-5"
      ]
     },
     "execution_count": 79,
     "metadata": {},
     "output_type": "execute_result"
    }
   ],
   "source": [
    "F = evaluate(R, X)-F0"
   ]
  },
  {
   "cell_type": "code",
   "execution_count": 51,
   "metadata": {},
   "outputs": [
    {
     "name": "stdout",
     "output_type": "stream",
     "text": [
      "σ = 0.28377625473180507\n",
      "(1.0, xpm) = (1.0, 0.28377625473180507)\n",
      "xpmi = 0.28377625473180507\n",
      "xpmi = 0.283776254731805\n",
      "xpmi = 0.283776254731805\n",
      "xpm = 0.28377625473180507\n",
      "xpmi = 0.28377625473180507\n",
      "xpmi = 0.283776254731805\n",
      "xpmi = 0.283776254731805\n",
      "xpm = 0.28377625473180507\n",
      "xpmi = 0.28377625473180507\n",
      "xpmi = 0.283776254731805\n",
      "xpmi = 0.283776254731805\n",
      "xpm = 0.28377625473180507\n",
      "xpmi = 0.28377625473180507\n",
      "xpmi = 0.283776254731805\n",
      "xpmi = 0.283776254731805\n",
      "xpm = 0.28377625473180507\n",
      "xpmi = 0.28377625473180507\n",
      "xpmi = 0.283776254731805\n",
      "xpmi = 0.283776254731805\n",
      "xpm = 0.28377625473180507\n",
      "xpmi = 0.28377625473180507\n",
      "xpmi = 0.283776254731805\n",
      "xpmi = 0.283776254731805\n",
      "xpm = 0.28377625473180507\n",
      "xpmi = 0.28377625473180507\n",
      "xpmi = 0.283776254731805\n",
      "xpmi = 0.283776254731805\n",
      "xpm = 0.28377625473180507\n",
      "xpmi = 0.28377625473180507\n",
      "xpmi = 0.283776254731805\n",
      "xpmi = 0.283776254731805\n",
      "xpm = 0.28377625473180507\n",
      "xpmi = 0.28377625473180507\n",
      "xpmi = 0.283776254731805\n",
      "xpmi = 0.283776254731805\n",
      "xpm = 0.28377625473180507\n",
      "xpmi = 0.28377625473180507\n",
      "xpmi = 0.283776254731805\n",
      "xpmi = 0.283776254731805\n",
      "xpm = 0.28377625473180507\n"
     ]
    }
   ],
   "source": [
    "F = evaluate(R, X0);\n",
    "\n",
    "cache  = zeros(Ne, Nψ)\n",
    "cache_vander = zeros(Ne, maximum(R.f.f.idx[:,Nx])+1)\n",
    "fx = zeros(Ne)\n",
    "\n",
    "# Remove f(x_{1:k-1},0) from the output F\n",
    "@avx for i=1:Ne\n",
    "    foffseti = zero(Float64)\n",
    "    for j=1:Nψ\n",
    "        foffseti += (S.ψoffψd0[i,j])*R.f.f.coeff[j]\n",
    "    end\n",
    "    F[i] -= foffseti\n",
    "end\n",
    "\n",
    "# lower and upper brackets of the ensemble members\n",
    "xk = view(X, Nx, :)\n",
    "xm = copy(xk)\n",
    "xp = copy(xk)\n",
    "σ = std(xm)\n",
    "@show σ\n",
    "xm .-= 0.5*σ\n",
    "xp .+= 0.5*σ\n",
    "fm = zeros(Ne)\n",
    "fp = zeros(Ne)\n",
    "# Find a bracket for the different samples\n",
    "niter = 1000\n",
    "factor = 1.6\n",
    "counter = 0\n",
    "bracketed = false\n",
    "while bracketed == false\n",
    "    functionalf!(fm, xm, cache, cache_vander, S.ψoff, F, R)\n",
    "    functionalf!(fp, xp, cache, cache_vander, S.ψoff, F, R)\n",
    "    # We know that the function is strictly increasing\n",
    "    if all(fm .< 0.0) && all(fp .> 0.0)\n",
    "        bracketed = true\n",
    "        break\n",
    "    end\n",
    "    @inbounds for i=1:Ne \n",
    "        if fm[i]*fp[i] > 0.0\n",
    "            counter += 1\n",
    "            center, width = 0.5*(xp[i] + xm[i]), factor*(xp[i] - xm[i])\n",
    "            xm[i] = center - width\n",
    "            xp[i] = center + width\n",
    "        end\n",
    "    end\n",
    "    counter += 1\n",
    "end\n",
    "\n",
    "@assert counter < niter \"Maximal number of iterations reached\"\n",
    "\n",
    "ϵxpm = 1e-6\n",
    "\n",
    "xnew = copy(xk)\n",
    "xold = copy(xk)\n",
    "J = zero(fx)\n",
    "xpm = maximum(xp .- xm)\n",
    "@show 1.0, xpm\n",
    "# while xpm > ϵxpm\n",
    "for j=1:10\n",
    "#     copy!(xold, xnew)\n",
    "\n",
    "    # Compute the Newton update\n",
    "    functionalf!(fx, xnew, cache, cache_vander, S.ψoff, F, R)\n",
    "    functionalg1D!(J, xnew, cache, cache_vander, S.ψoff, F, R)\n",
    "    @inbounds for i=1:Ne\n",
    "        xnewi = xnew[i]\n",
    "        xoldi = xold[i]\n",
    "        fxi   = fx[i]\n",
    "        Ji    = J[i]\n",
    "        xmi   = xm[i]\n",
    "        fmi   = fm[i]\n",
    "        xpi   = xp[i]\n",
    "        fpi   = fp[i]\n",
    "        \n",
    "        xpmi = abs(xpi - xmi)\n",
    "        @show xpmi\n",
    "        if xpm < xpmi\n",
    "            xpm = xpmi\n",
    "        end\n",
    "        \n",
    "        # Check if xnewton is within the bracket, otherwise apply bisection\n",
    "        if xnewi > xpi || xnewi < xmi\n",
    "            \n",
    "        # Apply the bisection method\n",
    "        xnewi, fxi, xmi, fmi, xpi, fpi = bisection(xnewi, fxi, xmi, fmi, xpi, fpi)\n",
    "        @show xmi <= xnewi <= xpi\n",
    "        \n",
    "#         # Decrease too slowly, revert to bisection\n",
    "#         elseif abs(fxi * 2.0) > abs(Δxi* Ji)\n",
    "#         # Apply the bisection method\n",
    "#         xnewi, fxi, xmi, fmi, xpi, fpi = bisection(xnewi, fxi, xmi, fmi, xpi, fpi)\n",
    "                \n",
    "#         elseif abs(Ji) < 1000*eps()\n",
    "#         # Apply bisection\n",
    "                              \n",
    "#         else #Apply Newton update\n",
    "#         xnew[i] -= fxi/Ji\n",
    "        end\n",
    "        \n",
    "        xnew[i] = xnewi\n",
    "        xold[i] = xoldi\n",
    "        xm[i]   = xmi\n",
    "        fm[i]   = fmi\n",
    "        xp[i]   = xpi\n",
    "        fp[i]   = fpi\n",
    "    end\n",
    "    @show xpm\n",
    "end"
   ]
  },
  {
   "cell_type": "code",
   "execution_count": 32,
   "metadata": {},
   "outputs": [
    {
     "data": {
      "text/plain": [
       "100-element Array{Float64,1}:\n",
       " -0.5756596087792389\n",
       " -0.1678154206031459\n",
       " -0.6088356830332864\n",
       " -0.5209664235922674\n",
       " -0.09237300788343977\n",
       " -0.006520460441294451\n",
       " -0.003515166212953419\n",
       " -0.05699144797568545\n",
       " -0.11798454374018785\n",
       " -0.12739579137438342\n",
       " -0.08505119625299146\n",
       " -0.1000711139362156\n",
       " -0.6198949168683905\n",
       "  ⋮\n",
       " -0.2544199792203823\n",
       " -0.02774511050486894\n",
       " -0.25343152504506805\n",
       " -0.10990158361627142\n",
       " -0.5057558755323068\n",
       " -0.14761742673830983\n",
       " -0.17688996942740703\n",
       " -0.12493319846427609\n",
       " -0.10464604802200322\n",
       " -0.08888383043096149\n",
       " -0.15633743167498654\n",
       " -0.21706139084201892"
      ]
     },
     "execution_count": 32,
     "metadata": {},
     "output_type": "execute_result"
    }
   ],
   "source": [
    "fm"
   ]
  },
  {
   "cell_type": "code",
   "execution_count": 34,
   "metadata": {},
   "outputs": [
    {
     "name": "stderr",
     "output_type": "stream",
     "text": [
      "\u001b[32mProgress: 100%|█████████████████████████████████████████| Time: 0:01:56\u001b[39m\n"
     ]
    },
    {
     "name": "stdout",
     "output_type": "stream",
     "text": [
      "116.187149 seconds (12.75 M allocations: 143.489 GiB, 4.39% gc time)\n"
     ]
    },
    {
     "data": {
      "text/plain": [
       "HermiteMap(20, 10, LinearTransform(10, [1.1195256465682104, 0.9728805809361984, 0.915577381173001, 0.9169390552688318, 1.024849057653465, 1.0207711546991929, 1.071957519333033, 0.9829474984141241, 1.0037238471249987, 1.0422161865737807], [2.45918785711432 0.0 … 0.0 0.0; 0.0 2.2539117629083045 … 0.0 0.0; … ; 0.0 0.0 … 2.30972952436834 0.0; 0.0 0.0 … 0.0 2.2509787353294453], true), MapComponent[Map component of dimension 1 with Nψ 14 active features\n",
       ", Map component of dimension 2 with Nψ 16 active features\n",
       ", Map component of dimension 3 with Nψ 20 active features\n",
       ", Map component of dimension 4 with Nψ 20 active features\n",
       ", Map component of dimension 5 with Nψ 19 active features\n",
       ", Map component of dimension 6 with Nψ 20 active features\n",
       ", Map component of dimension 7 with Nψ 20 active features\n",
       ", Map component of dimension 8 with Nψ 20 active features\n",
       ", Map component of dimension 9 with Nψ 20 active features\n",
       ", Map component of dimension 10 with Nψ 20 active features\n",
       "])"
      ]
     },
     "execution_count": 34,
     "metadata": {},
     "output_type": "execute_result"
    }
   ],
   "source": [
    "@time optimize(S, X, \"kfolds\"; withqr = true, hessprecond = true)"
   ]
  },
  {
   "cell_type": "code",
   "execution_count": 35,
   "metadata": {},
   "outputs": [
    {
     "data": {
      "image/png": "[encoded data removed]"
     },
     "execution_count": 35,
     "metadata": {},
     "output_type": "execute_result"
    }
   ],
   "source": [
    "plot(S)"
   ]
  },
  {
   "cell_type": "code",
   "execution_count": 36,
   "metadata": {},
   "outputs": [],
   "source": [
    "F = rand(Laplace(), (Nx, Ne))\n",
    "F0 = deepcopy(F);"
   ]
  },
  {
   "cell_type": "code",
   "execution_count": 37,
   "metadata": {},
   "outputs": [],
   "source": [
    "xrange = -5:0.01:5.0\n",
    "\n",
    "Xrange = zeros(Nx, length(xrange))\n",
    "Xrange[end,:] .= collect(xrange)\n",
    "view(Xrange,1:Nx-1,:) .= repeat(randn(Nx-1), 1, length(xrange));"
   ]
  },
  {
   "cell_type": "code",
   "execution_count": 38,
   "metadata": {},
   "outputs": [
    {
     "data": {
      "image/png": "[encoded data removed]"
     },
     "execution_count": 38,
     "metadata": {},
     "output_type": "execute_result"
    }
   ],
   "source": [
    "histogram(sort(X[end,:]),  bins = 90, normalize = :pdf)"
   ]
  },
  {
   "cell_type": "code",
   "execution_count": 39,
   "metadata": {},
   "outputs": [
    {
     "data": {
      "image/png": "[encoded data removed]"
     },
     "execution_count": 39,
     "metadata": {},
     "output_type": "execute_result"
    }
   ],
   "source": [
    "plot(xrange, evaluate(S, Xrange; start = Nx)[end,:])"
   ]
  },
  {
   "cell_type": "code",
   "execution_count": 123,
   "metadata": {},
   "outputs": [
    {
     "name": "stdout",
     "output_type": "stream",
     "text": [
      "  233.605 μs (4289 allocations: 267.03 KiB)\n"
     ]
    },
    {
     "data": {
      "text/plain": [
       "10×1 Array{Float64,2}:\n",
       " -6.6940053024980894\n",
       "  0.7813151227451507\n",
       " -0.1545225018963985\n",
       "  1.5829584025685157\n",
       " -0.2182828264926049\n",
       "  1.6811151650045222\n",
       "  0.36005280775071213\n",
       "  0.6414972076521022\n",
       "  0.9728650754039316\n",
       " -0.5096409881052824"
      ]
     },
     "execution_count": 123,
     "metadata": {},
     "output_type": "execute_result"
    }
   ],
   "source": [
    "Xpost = deepcopy(X)[:,1:1]\n",
    "@btime inverse!(Xpost, copy(F[:,1:1]), S)"
   ]
  },
  {
   "cell_type": "code",
   "execution_count": 125,
   "metadata": {},
   "outputs": [
    {
     "name": "stdout",
     "output_type": "stream",
     "text": [
      "  10.562 ms (12123 allocations: 20.68 MiB)\n"
     ]
    },
    {
     "data": {
      "text/plain": [
       "10×500 Array{Float64,2}:\n",
       " -6.69432    -0.325811  0.866688   …   3.99049    0.800305   -5.34821\n",
       "  0.652841    1.00699   0.0709028      0.119864   0.782312    0.332934\n",
       " -0.147232    1.01834   0.130148       0.203138  -0.409091    0.863126\n",
       "  1.56178     0.235563  1.70613        1.21226    0.264081    1.91235\n",
       " -0.217985    5.13841   0.250809       0.572872   0.837754   -0.478516\n",
       "  1.65968    -0.510001  0.795841   …   2.53737    0.0704323   8.82153\n",
       "  0.0676075  -0.318584  0.725396       1.13007   -0.111888    0.171928\n",
       "  0.643154    0.987011  1.4607        -0.231542   1.15277     0.125883\n",
       "  0.971018   -0.361035  1.51833        0.520839   2.40892    -5.70749\n",
       " -0.510841    0.269097  0.435094       0.625539   8.08316     0.330348"
      ]
     },
     "execution_count": 125,
     "metadata": {},
     "output_type": "execute_result"
    }
   ],
   "source": [
    "Xpost = deepcopy(X)\n",
    "@btime inverse!(Xpost, copy(F), S)"
   ]
  },
  {
   "cell_type": "code",
   "execution_count": 16,
   "metadata": {},
   "outputs": [
    {
     "data": {
      "image/png": "[encoded data removed]"
     },
     "execution_count": 16,
     "metadata": {},
     "output_type": "execute_result"
    }
   ],
   "source": [
    "plot(collect(0.00001:0.01:5.0), sin.(1 ./ collect(0.00001:0.01:5.0)))"
   ]
  },
  {
   "cell_type": "code",
   "execution_count": 63,
   "metadata": {},
   "outputs": [
    {
     "data": {
      "text/plain": [
       "0.007631680483031644"
      ]
     },
     "execution_count": 63,
     "metadata": {},
     "output_type": "execute_result"
    }
   ],
   "source": [
    "maximum(evaluate(S, Xpost)-F)"
   ]
  },
  {
   "cell_type": "code",
   "execution_count": 108,
   "metadata": {},
   "outputs": [
    {
     "name": "stdout",
     "output_type": "stream",
     "text": [
      "  18.940 μs (40 allocations: 142.86 KiB)\n"
     ]
    },
    {
     "data": {
      "text/plain": [
       "500×14 Array{Float64,2}:\n",
       " 0.617909     0.183069     -0.398576  1.0  …   0.236137     1.0  -0.257108\n",
       " 0.00151744   0.00745327    0.024813  1.0      0.242059     1.0   0.360888\n",
       " 0.605522     0.248767     -0.355901  1.0      0.302956     1.0  -0.176634\n",
       " 0.630959     0.0407927    -0.444291  1.0      0.0557021    1.0  -0.3483\n",
       " 0.630153     0.0607466    -0.441445  1.0      0.0826658    1.0  -0.342476\n",
       " 0.230572     0.462921      0.494154  1.0  …  -0.382899     1.0  -0.101714\n",
       " 0.606173     0.245843     -0.358126  1.0      0.300328     1.0  -0.180717\n",
       " 0.41352      0.538263      0.20302   1.0      0.0455764    1.0   0.355185\n",
       " 0.615824     0.196001     -0.391343  1.0      0.250444     1.0  -0.243147\n",
       " 0.365527     0.540657      0.307002  1.0     -0.103223     1.0   0.301408\n",
       " 0.631619     0.000146277  -0.446622  1.0  …   0.000200298  1.0  -0.353086\n",
       " 0.44251      0.527922      0.132449  1.0      0.134593     1.0   0.355307\n",
       " 0.631619    -0.00013236   -0.446622  1.0     -0.000181241  1.0  -0.353086\n",
       " ⋮                                         ⋱                     \n",
       " 0.58262      0.331123     -0.278906  1.0      0.358927     1.0  -0.0433419\n",
       " 0.265218     0.494113      0.463393  1.0     -0.345601     1.0   0.0227038\n",
       " 0.631487     0.0182721    -0.446155  1.0  …   0.0250062    1.0  -0.352125\n",
       " 0.60457      0.252963     -0.352652  1.0      0.306664     1.0  -0.170696\n",
       " 0.450432     0.523804      0.112215  1.0      0.158061     1.0   0.350772\n",
       " 0.631618     0.00126021   -0.44662   1.0      0.0017256    1.0  -0.353081\n",
       " 0.631453     0.0204723    -0.446035  1.0      0.0280132    1.0  -0.35188\n",
       " 0.610746     0.223922     -0.37381   1.0  …   0.279509     1.0  -0.209849\n",
       " 0.622193     0.152584     -0.413498  1.0      0.200607     1.0  -0.286316\n",
       " 0.631619     0.00041033   -0.446622  1.0      0.000561867  1.0  -0.353085\n",
       " 0.413913     0.53817       0.202103  1.0      0.0468013    1.0   0.355357\n",
       " 0.631619     0.00019413   -0.446622  1.0      0.000265823  1.0  -0.353086"
      ]
     },
     "execution_count": 108,
     "metadata": {},
     "output_type": "execute_result"
    }
   ],
   "source": [
    "@btime ψoff = evaluate_diagbasis(S[10].I.f, X)"
   ]
  },
  {
   "cell_type": "code",
   "execution_count": 68,
   "metadata": {},
   "outputs": [
    {
     "name": "stdout",
     "output_type": "stream",
     "text": [
      "search: \u001b[0m\u001b[1mn\u001b[22m\u001b[0m\u001b[1ml\u001b[22m\u001b[0m\u001b[1ms\u001b[22m\u001b[0m\u001b[1mo\u001b[22m\u001b[0m\u001b[1ml\u001b[22m\u001b[0m\u001b[1mv\u001b[22m\u001b[0m\u001b[1me\u001b[22m \u001b[0m\u001b[1mN\u001b[22m\u001b[0m\u001b[1mL\u001b[22m\u001b[0m\u001b[1ms\u001b[22m\u001b[0m\u001b[1mo\u001b[22m\u001b[0m\u001b[1ml\u001b[22m\u001b[0m\u001b[1mv\u001b[22m\u001b[0m\u001b[1me\u001b[22m \u001b[0m\u001b[1mN\u001b[22mon\u001b[0m\u001b[1ml\u001b[22minear\u001b[0m\u001b[1mS\u001b[22m\u001b[0m\u001b[1mo\u001b[22m\u001b[0m\u001b[1ml\u001b[22m\u001b[0m\u001b[1mv\u001b[22m\u001b[0m\u001b[1me\u001b[22m E\u001b[0m\u001b[1mn\u001b[22msemb\u001b[0m\u001b[1ml\u001b[22me\u001b[0m\u001b[1mS\u001b[22m\u001b[0m\u001b[1mo\u001b[22m\u001b[0m\u001b[1ml\u001b[22mution E\u001b[0m\u001b[1mn\u001b[22msemb\u001b[0m\u001b[1ml\u001b[22meTe\u001b[0m\u001b[1ms\u001b[22mtS\u001b[0m\u001b[1mo\u001b[22m\u001b[0m\u001b[1ml\u001b[22mution\n",
      "\n"
     ]
    },
    {
     "data": {
      "text/latex": [
       "No documentation found.\n",
       "\n",
       "\\texttt{NLsolve.nlsolve} is a \\texttt{Function}.\n",
       "\n",
       "\\begin{verbatim}\n",
       "# 4 methods for generic function \"nlsolve\":\n",
       "[1] nlsolve(df::Union{NLSolversBase.NonDifferentiable, OnceDifferentiable}, initial_x::AbstractArray; method, xtol, ftol, iterations, store_trace, show_trace, extended_trace, linesearch, linsolve, factor, autoscale, m, beta, aa_start, droptol) in NLsolve at /home/mat/.julia/packages/NLsolve/gJL1I/src/nlsolve/nlsolve.jl:1\n",
       "[2] nlsolve(f, initial_x::AbstractArray; method, autodiff, inplace, kwargs...) in NLsolve at /home/mat/.julia/packages/NLsolve/gJL1I/src/nlsolve/nlsolve.jl:40\n",
       "[3] nlsolve(f, j, initial_x::AbstractArray; inplace, kwargs...) in NLsolve at /home/mat/.julia/packages/NLsolve/gJL1I/src/nlsolve/nlsolve.jl:56\n",
       "[4] nlsolve(f, j, fj, initial_x::AbstractArray; inplace, kwargs...) in NLsolve at /home/mat/.julia/packages/NLsolve/gJL1I/src/nlsolve/nlsolve.jl:70\n",
       "\\end{verbatim}\n"
      ],
      "text/markdown": [
       "No documentation found.\n",
       "\n",
       "`NLsolve.nlsolve` is a `Function`.\n",
       "\n",
       "```\n",
       "# 4 methods for generic function \"nlsolve\":\n",
       "[1] nlsolve(df::Union{NLSolversBase.NonDifferentiable, OnceDifferentiable}, initial_x::AbstractArray; method, xtol, ftol, iterations, store_trace, show_trace, extended_trace, linesearch, linsolve, factor, autoscale, m, beta, aa_start, droptol) in NLsolve at /home/mat/.julia/packages/NLsolve/gJL1I/src/nlsolve/nlsolve.jl:1\n",
       "[2] nlsolve(f, initial_x::AbstractArray; method, autodiff, inplace, kwargs...) in NLsolve at /home/mat/.julia/packages/NLsolve/gJL1I/src/nlsolve/nlsolve.jl:40\n",
       "[3] nlsolve(f, j, initial_x::AbstractArray; inplace, kwargs...) in NLsolve at /home/mat/.julia/packages/NLsolve/gJL1I/src/nlsolve/nlsolve.jl:56\n",
       "[4] nlsolve(f, j, fj, initial_x::AbstractArray; inplace, kwargs...) in NLsolve at /home/mat/.julia/packages/NLsolve/gJL1I/src/nlsolve/nlsolve.jl:70\n",
       "```\n"
      ],
      "text/plain": [
       "  No documentation found.\n",
       "\n",
       "  \u001b[36mNLsolve.nlsolve\u001b[39m is a \u001b[36mFunction\u001b[39m.\n",
       "\n",
       "\u001b[36m  # 4 methods for generic function \"nlsolve\":\u001b[39m\n",
       "\u001b[36m  [1] nlsolve(df::Union{NLSolversBase.NonDifferentiable, OnceDifferentiable}, initial_x::AbstractArray; method, xtol, ftol, iterations, store_trace, show_trace, extended_trace, linesearch, linsolve, factor, autoscale, m, beta, aa_start, droptol) in NLsolve at /home/mat/.julia/packages/NLsolve/gJL1I/src/nlsolve/nlsolve.jl:1\u001b[39m\n",
       "\u001b[36m  [2] nlsolve(f, initial_x::AbstractArray; method, autodiff, inplace, kwargs...) in NLsolve at /home/mat/.julia/packages/NLsolve/gJL1I/src/nlsolve/nlsolve.jl:40\u001b[39m\n",
       "\u001b[36m  [3] nlsolve(f, j, initial_x::AbstractArray; inplace, kwargs...) in NLsolve at /home/mat/.julia/packages/NLsolve/gJL1I/src/nlsolve/nlsolve.jl:56\u001b[39m\n",
       "\u001b[36m  [4] nlsolve(f, j, fj, initial_x::AbstractArray; inplace, kwargs...) in NLsolve at /home/mat/.julia/packages/NLsolve/gJL1I/src/nlsolve/nlsolve.jl:70\u001b[39m"
      ]
     },
     "execution_count": 68,
     "metadata": {},
     "output_type": "execute_result"
    }
   ],
   "source": [
    "?nlsolve"
   ]
  },
  {
   "cell_type": "code",
   "execution_count": null,
   "metadata": {},
   "outputs": [],
   "source": []
  }
 ],
 "metadata": {
  "kernelspec": {
   "display_name": "Julia 1.5.3",
   "language": "julia",
   "name": "julia-1.5"
  },
  "language_info": {
   "file_extension": ".jl",
   "mimetype": "application/julia",
   "name": "julia",
   "version": "1.5.3"
  }
 },
 "nbformat": 4,
 "nbformat_minor": 4
}
